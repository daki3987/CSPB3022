{
 "cells": [
  {
   "cell_type": "code",
   "execution_count": 2,
   "id": "7b7c3ba3",
   "metadata": {
    "deletable": false,
    "editable": false
   },
   "outputs": [],
   "source": [
    "# Initialize Otter\n",
    "import otter\n",
    "grader = otter.Notebook(\"hw05.ipynb\")"
   ]
  },
  {
   "cell_type": "markdown",
   "id": "0a41ef94",
   "metadata": {},
   "source": [
    "# Homework 5\n",
    "\n",
    "## Due on Gradescope\n",
    "\n",
    "## Collaboration Policy\n",
    "\n",
    "Data science is a collaborative activity. However a key step in learning and retention is creating solutions on your own.\n",
    "\n",
    "Please see the Course Syllabus for the Collaboration Policy.\n",
    "\n",
    "The following are some examples of things which would NOT usually be considered to be cheating:\n",
    "\n",
    "Working on a HW problem on your own first and then discussing with a classmate a particular part in the problem solution where you are stuck. After clarifying any questions you should then continue to write your solution independently.\n",
    "Asking someone (or searching online) how a particular construct in the language works.\n",
    "Asking someone (or searching online) how to formulate a particular construct in the language.\n",
    "Asking someone for help in finding an error in your program.\n",
    "Asking someone why a particular construct does not work as you expected in a given program.\n",
    "To test whether you are truly doing your own work and retaining what you've learned you should be able to easily reproduce from scratch and explain a HW solution that was your own when asked in office hours by an Instructor or on a quiz/exam.\n",
    "\n",
    "If you have difficulty in formulating the general solution to a problem on your own, or you have difficulty in translating that general solution into a program, it is advisable to see your instructor.\n",
    "\n",
    "We are here to help! Visit Office Hours and/or post questions on Piazza!"
   ]
  },
  {
   "cell_type": "markdown",
   "id": "e4d8a09d",
   "metadata": {},
   "source": [
    "If while completing this assignment you reference any websites other than those linked in this assignment or provided on Canvas please list those references here:\n",
    "\n",
    "**External references**:  *list any websites you referenced"
   ]
  },
  {
   "cell_type": "markdown",
   "id": "24b45ac0",
   "metadata": {},
   "source": [
    "#### Grading\n",
    "Grading is broken down into autograded answers and manually graded answers. \n",
    "\n",
    "For autograded answers, the results of your code are compared to provided and/or hidden tests.\n",
    "\n",
    "For manually graded answers you must show and explain all steps.  Graders will evaluate how well you answered the question and/or fulfilled the requirements of the question.\n",
    "\n",
    "\n",
    "### Score breakdown\n",
    "\n",
    "\n",
    "\n",
    "Question | Points | Grading Type\n",
    "--- | --- | ---\n",
    "Question 1 | 7 | autograded\n",
    "Question 2acef | 11 | manual\n",
    "Question 2bd | 5 | autograded\n",
    "Question 3 | 10 | manual\n",
    "Question 4abc | 3| autograded\n",
    "Question 4deg | 11 | manual\n",
    "Question 4f | 3 | autograded\n",
    "|Total | 50\n",
    "\n",
    "\n",
    "## Recommended Readings for this HW:\n",
    "\n",
    "- [CS109 Course Reader: Random Variables](https://chrispiech.github.io/probabilityForComputerScientists/en/part2/rvs/)\n",
    "- [CS109 Course Reader: Probability Mass Functions (PMF)](https://chrispiech.github.io/probabilityForComputerScientists/en/part2/pmf/)\n",
    "- [CS109 Course Reader: Expectation](https://chrispiech.github.io/probabilityForComputerScientists/en/part2/expectation/)\n",
    "- [CS109 Course Reader: Variance](https://chrispiech.github.io/probabilityForComputerScientists/en/part2/variance/)\n",
    "- [CS109 Course Reader: Bernoulli Distribution](https://chrispiech.github.io/probabilityForComputerScientists/en/part2/bernoulli/)\n",
    "- [CS109 Course Reader: Binomial Distribution](https://chrispiech.github.io/probabilityForComputerScientists/en/part2/binomial/)\n",
    "- [CS109 Course Reader: Poisson Distribution](https://chrispiech.github.io/probabilityForComputerScientists/en/part2/poisson/)\n",
    "- [100 Binomial Question](https://chrispiech.github.io/probabilityForComputerScientists/en/examples/100_binomial_problems/)"
   ]
  },
  {
   "cell_type": "markdown",
   "id": "c0eec3bc",
   "metadata": {},
   "source": [
    "<a id='top'></a>\n",
    "---\n",
    "**Shortcuts:**  [Problem 2](#p2) | [Problem 3](#p3) | [Problem 4](#p4) | \n",
    "---\n",
    "<hr style=\"border: 5px solid #003262;\" />\n",
    "<hr style=\"border: 1px solid #fdb515;\" />\n",
    "\n"
   ]
  },
  {
   "cell_type": "markdown",
   "id": "20206110",
   "metadata": {},
   "source": [
    "In this HW we explore properties of probability distributions, both theoretically and through simulation."
   ]
  },
  {
   "cell_type": "code",
   "execution_count": 3,
   "id": "931c6bb1",
   "metadata": {
    "scrolled": true
   },
   "outputs": [],
   "source": [
    "\n",
    "import pandas as pd\n",
    "import numpy as np\n",
    "import hashlib\n",
    "import matplotlib.pylab as plt\n",
    "%matplotlib inline\n",
    "\n",
    "\n",
    "def get_hash(num):\n",
    "    \"\"\"Helper function for assessing correctness\"\"\"\n",
    "    return hashlib.md5(str(num).encode()).hexdigest()\n",
    "\n"
   ]
  },
  {
   "cell_type": "markdown",
   "id": "d31b6992",
   "metadata": {},
   "source": [
    "### Question 1"
   ]
  },
  {
   "cell_type": "markdown",
   "id": "0147e431",
   "metadata": {},
   "source": [
    "Factorials and the *binomial coefficients* $\\binom{n}{k} = \\frac{n!}{k!(n-k)!}$ get large very quickly as $n$ gets large. One way to compute them is to use the `SciPy` module `special`. `SciPy` is a collection of Python-based software for math, probability, statistics, science, and engineering."
   ]
  },
  {
   "cell_type": "code",
   "execution_count": 4,
   "id": "a790273f",
   "metadata": {},
   "outputs": [],
   "source": [
    "from scipy import special"
   ]
  },
  {
   "cell_type": "markdown",
   "id": "f129bece",
   "metadata": {},
   "source": [
    "Below are some examples of `special.factorial`:"
   ]
  },
  {
   "cell_type": "code",
   "execution_count": 5,
   "id": "c3979a3c",
   "metadata": {},
   "outputs": [
    {
     "data": {
      "text/plain": [
       "array([  1.,   2.,   6.,  24., 120.])"
      ]
     },
     "execution_count": 5,
     "metadata": {},
     "output_type": "execute_result"
    }
   ],
   "source": [
    "special.factorial(5)\n",
    "\n",
    "special.factorial(range(1, 6))"
   ]
  },
  {
   "cell_type": "markdown",
   "id": "78cf70c7",
   "metadata": {},
   "source": [
    "Traditionally, subsets of $k$ individuals out of a population of $n$ individuals are called *combinations*, and so `special.comb(n, k)` evaluates to $\\binom{n}{k}$. \n",
    "\n",
    "Note that we will always use the term *subsets* to mean un-ordered sets. We will use *permutations* in situations where we need to keep track of the order in which the elements appear.\n",
    "\n",
    "\n",
    "Look at the code and output below carefully (including types) before starting Question 1.\n",
    "\n",
    "\n",
    "https://docs.scipy.org/doc/scipy/reference/generated/scipy.special.comb.html\n",
    "\n"
   ]
  },
  {
   "cell_type": "code",
   "execution_count": 6,
   "id": "7195cb18",
   "metadata": {},
   "outputs": [
    {
     "data": {
      "text/plain": [
       "(10.0, 10.0)"
      ]
     },
     "execution_count": 6,
     "metadata": {},
     "output_type": "execute_result"
    }
   ],
   "source": [
    "special.comb(5, 3), special.factorial(5) / (special.factorial(3) * special.factorial(2))"
   ]
  },
  {
   "cell_type": "code",
   "execution_count": 7,
   "id": "a43ff9ee",
   "metadata": {},
   "outputs": [
    {
     "data": {
      "text/plain": [
       "array([ 1.,  5., 10., 10.,  5.,  1.])"
      ]
     },
     "execution_count": 7,
     "metadata": {},
     "output_type": "execute_result"
    }
   ],
   "source": [
    "special.comb(5, range(6))"
   ]
  },
  {
   "cell_type": "markdown",
   "id": "cb6358c5",
   "metadata": {},
   "source": [
    "Consider a population in which a proportion $p$ of individuals are called \"successes\" (or 1, if you prefer) and the remaining proportion are rudely called \"failures\" (or 0).\n",
    "\n",
    "As we saw in lecture, if you draw a sample of size $n$ (where $n$ is some positive integer) at random with replacement from the population, then the number of successes is a random variable that follows the binomial distribution. The probability of drawing $k$ successes and $n-k$ failures is $\\binom{n}{k}p^k(1-p)^{n-k}$, for $0 \\leq k \\leq n$. To reduce writing, we will shorten \"$k$ successes and $n-k$ failures\" to \"$k$ successes\". In other words, \"$k$ successes\" means \"exactly $k$ successes\".\n",
    "\n",
    "To formalize notation: if $X$ is the number of successes we draw, then $P(X = k) = \\binom{n}{k}p^k(1-p)^{n-k}$."
   ]
  },
  {
   "cell_type": "markdown",
   "id": "4872037a",
   "metadata": {},
   "source": [
    "### Question 1a) ###\n",
    "Suppose you sample 100 times at random with replacement from a population in which 26% of the individuals are successes. Write a Python expression that evaluates to the chance that the sample has 20 successes. \n",
    "\n",
    "**Computational note:** Don't import any other libraries; just use the ones already imported and plug into the formula above. It's far from the best way numerically, but it is fine for the numbers involved in this Homework. "
   ]
  },
  {
   "cell_type": "code",
   "execution_count": 8,
   "id": "709bc2bb",
   "metadata": {
    "tags": []
   },
   "outputs": [
    {
     "data": {
      "text/plain": [
       "0.03691100356002463"
      ]
     },
     "execution_count": 8,
     "metadata": {},
     "output_type": "execute_result"
    }
   ],
   "source": [
    "prob_1a = special.comb(100,20)*((0.26**20)*(0.74**80))\n",
    "prob_1a"
   ]
  },
  {
   "cell_type": "code",
   "execution_count": 9,
   "id": "1a6dc356",
   "metadata": {
    "deletable": false,
    "editable": false
   },
   "outputs": [
    {
     "data": {
      "text/html": [
       "<p><strong><pre style='display: inline;'>q1a</pre></strong> passed! ✨</p>"
      ],
      "text/plain": [
       "q1a results: All test cases passed!"
      ]
     },
     "execution_count": 9,
     "metadata": {},
     "output_type": "execute_result"
    }
   ],
   "source": [
    "grader.check(\"q1a\")"
   ]
  },
  {
   "cell_type": "markdown",
   "id": "7be85817",
   "metadata": {},
   "source": [
    "### Question 1b) ###\n",
    "Complete the cell with a Python expression that evaluates to an array whose elements are the chances of $k$ successes for $k = 0, 1, 2, \\ldots, 100$. That is, `all_probs[k]` should contain $P(X = k)$, where $X$ is the random variable describing the number of successes drawn from the scenario outlined above."
   ]
  },
  {
   "cell_type": "code",
   "execution_count": 10,
   "id": "e01fef7a",
   "metadata": {
    "tags": []
   },
   "outputs": [
    {
     "data": {
      "text/plain": [
       "(array([0.    , 0.    , 0.    , 0.    , 0.    , 0.    , 0.    , 0.    ,\n",
       "        0.    , 0.    , 0.    , 0.0001, 0.0003, 0.0007, 0.0016, 0.0033,\n",
       "        0.0061, 0.0106, 0.0171, 0.0259, 0.0369, 0.0494, 0.0623, 0.0743,\n",
       "        0.0837, 0.0894, 0.0906, 0.0873, 0.0799, 0.0697, 0.058 , 0.046 ,\n",
       "        0.0349, 0.0252, 0.0175, 0.0116, 0.0073, 0.0045, 0.0026, 0.0015,\n",
       "        0.0008, 0.0004, 0.0002, 0.0001, 0.    , 0.    , 0.    , 0.    ,\n",
       "        0.    , 0.    , 0.    , 0.    , 0.    , 0.    , 0.    , 0.    ,\n",
       "        0.    , 0.    , 0.    , 0.    , 0.    , 0.    , 0.    , 0.    ,\n",
       "        0.    , 0.    , 0.    , 0.    , 0.    , 0.    , 0.    , 0.    ,\n",
       "        0.    , 0.    , 0.    , 0.    , 0.    , 0.    , 0.    , 0.    ,\n",
       "        0.    , 0.    , 0.    , 0.    , 0.    , 0.    , 0.    , 0.    ,\n",
       "        0.    , 0.    , 0.    , 0.    , 0.    , 0.    , 0.    , 0.    ,\n",
       "        0.    , 0.    , 0.    , 0.    , 0.    ]),\n",
       " 0.9999999999999994)"
      ]
     },
     "execution_count": 10,
     "metadata": {},
     "output_type": "execute_result"
    }
   ],
   "source": [
    "k = np.arange(101)\n",
    "all_probs = special.comb(100,k)*(0.26**k)*((0.74)**(100-k))\n",
    "np.round(all_probs, 4), sum(all_probs)"
   ]
  },
  {
   "cell_type": "code",
   "execution_count": 11,
   "id": "5f0771e2",
   "metadata": {
    "deletable": false,
    "editable": false
   },
   "outputs": [
    {
     "data": {
      "text/html": [
       "<p><strong><pre style='display: inline;'>q1b</pre></strong> passed! 💯</p>"
      ],
      "text/plain": [
       "q1b results: All test cases passed!"
      ]
     },
     "execution_count": 11,
     "metadata": {},
     "output_type": "execute_result"
    }
   ],
   "source": [
    "grader.check(\"q1b\")"
   ]
  },
  {
   "cell_type": "markdown",
   "id": "17ab40ba",
   "metadata": {},
   "source": [
    "Using the array of probability values we can plot a histogram of this discrete probability distribution as follows.\n",
    "\n",
    "**NOTE:** We set the bin widths to be equal to 1 and add white lines between each value so that we can interpret area in the histogram as probabilities."
   ]
  },
  {
   "cell_type": "code",
   "execution_count": 12,
   "id": "ac404b22",
   "metadata": {},
   "outputs": [
    {
     "data": {
      "image/png": "[encoded data removed]",
      "text/plain": [
       "<Figure size 640x480 with 1 Axes>"
      ]
     },
     "metadata": {},
     "output_type": "display_data"
    }
   ],
   "source": [
    "k = np.arange(101)\n",
    "p = special.comb(100, k)*(0.26**k)*(0.74**(100-k))\n",
    "\n",
    "\n",
    "fig, ax = plt.subplots()\n",
    "\n",
    "ax.bar(k, p, width=1, ec='white');\n",
    "ax.set_axisbelow(True)\n",
    "ax.grid(alpha=0.25)\n",
    "plt.xlim(1,60)\n",
    "#Always label your x-axis\n",
    "plt.xlabel(\"k\")\n",
    "#Always label your y-axis\n",
    "plt.ylabel(\"P(X=k)\")\n",
    "\n",
    "#Always include a title\n",
    "plt.title(\"Binomial Distribution, n=100, p=0.26\");\n",
    "\n"
   ]
  },
  {
   "cell_type": "markdown",
   "id": "76e89a52",
   "metadata": {},
   "source": [
    "### Question 1c) ###\n",
    "\n",
    "\n",
    "Complete the cell with an expression that evaluates to the chance that the number of successes in the sample is in the interval $26 \\pm 10$ (inclusive on both sides). In other words, determine $P(16 \\leq X \\leq 36)$. **Hint: You might want to apply your Python indexing knowledge here.**\n",
    "\n",
    "**Note: Please assign your answer to `prob_1c`. Because we use an autograder, please make sure your answer is a proportion between 0 and 1, not a percent between 0 and 100.**"
   ]
  },
  {
   "cell_type": "code",
   "execution_count": 13,
   "id": "1669bcad",
   "metadata": {
    "tags": []
   },
   "outputs": [],
   "source": [
    "prob_1c = sum(all_probs[16:37])\n"
   ]
  },
  {
   "cell_type": "code",
   "execution_count": 14,
   "id": "47694f80",
   "metadata": {
    "deletable": false,
    "editable": false
   },
   "outputs": [
    {
     "data": {
      "text/html": [
       "<p><strong><pre style='display: inline;'>q1c</pre></strong> passed! 🌟</p>"
      ],
      "text/plain": [
       "q1c results: All test cases passed!"
      ]
     },
     "execution_count": 14,
     "metadata": {},
     "output_type": "execute_result"
    }
   ],
   "source": [
    "grader.check(\"q1c\")"
   ]
  },
  {
   "cell_type": "markdown",
   "id": "81abfe91",
   "metadata": {},
   "source": [
    "Consider (once again) a sample of size $n$ drawn at random with replacement from a population in which a proportion $p$ of the individuals are called successes.\n",
    "\n",
    "Let $S$ be the random variable that denotes the number of successes in our sample. (As stated above, $S$ follows the binomial distribution.) Then, the probability that the number of successes in our sample is **at most** $s$ (where $0 \\leq s \\leq n$) is\n",
    "\n",
    "$$P(S \\leq s) = P(S = 0) + P(S = 1) + ... + P(S = s) = \\sum_{k=0}^s \\binom{n}{k}p^k(1-p)^{n-k}$$\n",
    "\n",
    "We obtain this by summing the probability that the number of successes is exactly $k$, for each value of $k = 0, 1, 2, ..., s$."
   ]
  },
  {
   "cell_type": "markdown",
   "id": "e58a3dbb",
   "metadata": {},
   "source": [
    "### Question 1d) ###\n",
    "\n",
    "Please fill in the function `prob_at_most` which takes $n$, $p$, and $s$ and returns $P(S \\le s)$ as defined above. If the inputs are invalid: for instance, if $p > 1$ OR $s > n$ then return 0.\" \n",
    "\n",
    "It might help to refer to the calculation in Question 1b."
   ]
  },
  {
   "cell_type": "code",
   "execution_count": 15,
   "id": "7d6ce2b8",
   "metadata": {
    "tags": []
   },
   "outputs": [],
   "source": [
    "def prob_at_most(n, p, s):\n",
    "    \"\"\" \n",
    "    returns the probability of S <= s\n",
    "    Input n: sample size; p : proportion; s: number of successes at most\"\"\"\n",
    "    if p > 1 or s > n:\n",
    "        return 0\n",
    "    return sum([special.comb(n,k) * p ** k * (1-p) ** (n-k) for k in range(s+1)])\n",
    "    # Your code above this line"
   ]
  },
  {
   "cell_type": "code",
   "execution_count": 16,
   "id": "5926e864",
   "metadata": {
    "deletable": false,
    "editable": false
   },
   "outputs": [
    {
     "data": {
      "text/html": [
       "<p><strong><pre style='display: inline;'>q1d</pre></strong> passed! 🌟</p>"
      ],
      "text/plain": [
       "q1d results: All test cases passed!"
      ]
     },
     "execution_count": 16,
     "metadata": {},
     "output_type": "execute_result"
    }
   ],
   "source": [
    "grader.check(\"q1d\")"
   ]
  },
  {
   "cell_type": "markdown",
   "id": "e334b604",
   "metadata": {},
   "source": [
    "### Question 1e) ###\n",
    "In an election, supporters of Candidate C are in a minority. Only 45% of the voters in the population favor the candidate.\n",
    "\n",
    "Suppose a survey organization takes a sample of 200 voters at random with replacement from this population. Use `prob_at_most` to write an expression that evaluates to the chance that a majority (more than half) of the sampled voters favor Candidate C."
   ]
  },
  {
   "cell_type": "code",
   "execution_count": 17,
   "id": "b77a9bb2",
   "metadata": {
    "tags": []
   },
   "outputs": [
    {
     "data": {
      "text/plain": [
       "0.06807524986263847"
      ]
     },
     "execution_count": 17,
     "metadata": {},
     "output_type": "execute_result"
    }
   ],
   "source": [
    "p_majority = 1 - prob_at_most(200, 0.45, 100)\n",
    "p_majority"
   ]
  },
  {
   "cell_type": "code",
   "execution_count": 18,
   "id": "79f7843a",
   "metadata": {
    "deletable": false,
    "editable": false
   },
   "outputs": [
    {
     "data": {
      "text/html": [
       "<p><strong><pre style='display: inline;'>q1e</pre></strong> passed! 🎉</p>"
      ],
      "text/plain": [
       "q1e results: All test cases passed!"
      ]
     },
     "execution_count": 18,
     "metadata": {},
     "output_type": "execute_result"
    }
   ],
   "source": [
    "grader.check(\"q1e\")"
   ]
  },
  {
   "cell_type": "markdown",
   "id": "aedce6ca",
   "metadata": {},
   "source": [
    "### Question 1f) ###\n",
    "Suppose each of five survey organizations takes a sample of voters at random with replacement from the population of voters in Part **e**, independently of the samples drawn by the other organizations. \n",
    "\n",
    "- Three of the organizations use a sample size of 200\n",
    "- One organization uses a sample size of 300\n",
    "- One organization uses a sample size of 400\n",
    "\n",
    "Write an expression that evaluates to the chance that in at least one of the five samples the majority of voters favor Candidate C. You can use any quantity or function defined earlier in this exercise."
   ]
  },
  {
   "cell_type": "code",
   "execution_count": 19,
   "id": "8ee4d6a2",
   "metadata": {
    "tags": []
   },
   "outputs": [
    {
     "data": {
      "text/plain": [
       "0.23550361568442357"
      ]
     },
     "execution_count": 19,
     "metadata": {},
     "output_type": "execute_result"
    }
   ],
   "source": [
    "prob_1f = 1 - (((prob_at_most (200, 0.45, 100)) ** 3) * prob_at_most (300, 0.45, 150) * prob_at_most (400, 0.45, 200))\n",
    "prob_1f"
   ]
  },
  {
   "cell_type": "code",
   "execution_count": 20,
   "id": "7afcf91e",
   "metadata": {
    "deletable": false,
    "editable": false
   },
   "outputs": [
    {
     "data": {
      "text/html": [
       "<p><strong><pre style='display: inline;'>q1f</pre></strong> passed! 🌟</p>"
      ],
      "text/plain": [
       "q1f results: All test cases passed!"
      ]
     },
     "execution_count": 20,
     "metadata": {},
     "output_type": "execute_result"
    }
   ],
   "source": [
    "grader.check(\"q1f\")"
   ]
  },
  {
   "cell_type": "markdown",
   "id": "f630e550",
   "metadata": {},
   "source": [
    "***\n",
    "\n",
    "[Back to top](#top)\n",
    "\n",
    "<a id='p2'></a>\n",
    "\n",
    "### Question 2 - Simulating Roulette\n",
    "\n",
    "\n",
    "A Las Vegas roulette wheel contains 38 numbers $\\{0, 00, 1, 2, \\ldots, 36\\}$. Of the non-zero numbers, 18 are red and 18 are black. You can place bets on various number/color combinations and each type of bet pays-out at a different rate.  For example: \n",
    "\n",
    "- If you bet $\\$1$ on red (or black) and win, then you win $\\$1$ (i.e. you get your original dollar back, plus another dollar). \n",
    "- If you bet $\\$1$ any particular number and win, then you win $\\$35$ (i.e you get your original dollar back, plus $\\$35$). \n",
    "- If you bet $\\$1$ on the first dozen (or second dozen, or third dozen) nonzero numbers and win, then you win $\\$2$ (i.e. you get your original dollar back, plus another $\\$2$. \n",
    "\n",
    "<img src=\"img/roulette_wheel.jpeg\" width=\"330px\">\n",
    "\n",
    "It seems like there are so many ways to win!  In reality, some very careful probability theory was done by the game designers to ensure that there is not much difference in any particular payout.  We'll explore roulette both by simulation and by hand in this exercise. "
   ]
  },
  {
   "cell_type": "markdown",
   "id": "a526842e",
   "metadata": {
    "deletable": false,
    "editable": false
   },
   "source": [
    "<!-- BEGIN QUESTION -->\n",
    "\n",
    "### Question 2a) ### \n",
    "\n",
    "Let $X$ be a random variable that gives your net winnings if you bet on red and the roulette wheel is spun once.   \n",
    "\n",
    "i).  What is the probability distribution of $X$?  Give your answer as a table. \n",
    "\n",
    "ii).  Calculate the expected value of your net winnings by betting on red.   \n",
    "\n",
    "iii). Calculate the variance of your net winnings by betting on red.\n",
    "\n",
    "Write up your full solution to all 3 parts in the SAME box below using LaTeX (not code).  Show all steps fully justifying your answer.  \n"
   ]
  },
  {
   "cell_type": "markdown",
   "id": "46a8fd08",
   "metadata": {},
   "source": [
    "i) The probability distribution of your winnings, X, can be represented as follows:\n",
    "\n",
    "| X | P(X) |\n",
    "|---|------|\n",
    "| 1 | 18/38 |\n",
    "|-1 | 20/38 |\n",
    "\n",
    "ii) The expected value of your winnings, E(X), can be calculated as follows:\n",
    "\n",
    "E(X) = ∑ [x * P(X = x)]\n",
    "\n",
    "= (1 * (18/38)) + (-1 * (20/38))\n",
    "\n",
    "= 18/38 - 20/38\n",
    "\n",
    "= -2/38\n",
    "\n",
    "= -1/19\n",
    "\n",
    "iii)\n",
    "\n",
    "The variance of net winnings is given by:\n",
    "\n",
    "$$\n",
    "\\text{Var}(X) = E[X^2] - (E[X])^2\n",
    "$$\n",
    "\n",
    "\n",
    "$$\n",
    "E[X^2] = (1^2 \\times \\frac{18}{38}) + ((-1)^2 \\times \\frac{20}{38}) = 1\n",
    "$$\n",
    "\n",
    "$$\n",
    "E[X] = (1 \\times \\frac{18}{38}) + (-1 \\times \\frac{20}{38}) = -\\frac{1}{19}\n",
    "$$\n",
    "\n",
    "$$\n",
    "\\text{Var}(X) = 1 - \\left(-\\frac{1}{19}\\right)^2 = \\frac{360}{361} \\approx 0.997\n",
    "$$\n",
    "\n"
   ]
  },
  {
   "cell_type": "markdown",
   "id": "f44e3ed5",
   "metadata": {
    "deletable": false,
    "editable": false
   },
   "source": [
    "<!-- END QUESTION -->\n",
    "\n",
    "### Question 2b) ### \n",
    "\n",
    "Let's simulate this.  In the first code box below, write code to simulate one spin of a roulette wheel. Your code should take in a single variable `num_spins` and return an array of roulette spins of that length **WITHOUT USING A LOOP**.  Your output should be an array of strings in the form of the number then the color (i.e. `array(['18R', '00G',...])`) \n",
    "\n",
    "In the 2nd code box below, write code that takes the number of spins and either the color red or black as input, calculates winnings for each spin assuming you bet on that color for all spins, and then outputs the average winnings out of those spins.  \n",
    "\n",
    "Then run the simulation for `num_spins` = 10,000,000  and compare to your answer from part A.\n",
    "\n",
    "**To receive credit you must write your code such that all lines are visible in your PDF output.**"
   ]
  },
  {
   "cell_type": "code",
   "execution_count": 21,
   "id": "fc313e5a",
   "metadata": {
    "tags": []
   },
   "outputs": [
    {
     "data": {
      "text/plain": [
       "array(['21R', '26B', '6B', '27R', '8B'], dtype='<U3')"
      ]
     },
     "execution_count": 21,
     "metadata": {},
     "output_type": "execute_result"
    }
   ],
   "source": [
    "def spin_roulette(num_spins): \n",
    "    # Create wheel:\n",
    "    red = [str(ii)+\"R\" for ii in [1,3,5,7,9,12,14,16,18,19,21,23,25,27,30,32,34,36]] \n",
    "    black = [str(ii)+\"B\" for ii in [2,4,6,8,10,11,13,15,17,20,22,24,26,28,29,31,33,35]]\n",
    "    green = [str(ii)+\"G\" for ii in [\"0\", \"00\"]]\n",
    "\n",
    "    wheel = red+black+green\n",
    "\n",
    "    return np.random.choice(wheel, size=num_spins)\n",
    "\n",
    "# Your code above this line\n",
    "\n",
    "spin_roulette(5)\n"
   ]
  },
  {
   "cell_type": "code",
   "execution_count": 22,
   "id": "0b3ccbc3",
   "metadata": {
    "tags": []
   },
   "outputs": [
    {
     "name": "stdout",
     "output_type": "stream",
     "text": [
      "E[Winnings] = -0.053\n"
     ]
    }
   ],
   "source": [
    "def color_winnings(color='R', num_spins=100000):\n",
    "\n",
    "    spins = spin_roulette(num_spins)\n",
    "    \n",
    "    winnings = np.where(np.char.endswith(spins, color), 1, -1)\n",
    "    \n",
    "    return np.mean(winnings)\n",
    "    \n",
    "print(\"E[Winnings] = {:.3f}\".format(color_winnings(color=\"R\", num_spins=int(1e7))))"
   ]
  },
  {
   "cell_type": "code",
   "execution_count": 23,
   "id": "b39bf8cc",
   "metadata": {
    "deletable": false,
    "editable": false
   },
   "outputs": [
    {
     "data": {
      "text/html": [
       "<p><strong><pre style='display: inline;'>q2b</pre></strong> passed! 🙌</p>"
      ],
      "text/plain": [
       "q2b results: All test cases passed!"
      ]
     },
     "execution_count": 23,
     "metadata": {},
     "output_type": "execute_result"
    }
   ],
   "source": [
    "grader.check(\"q2b\")"
   ]
  },
  {
   "cell_type": "markdown",
   "id": "d0526ce7",
   "metadata": {
    "deletable": false,
    "editable": false
   },
   "source": [
    "<!-- BEGIN QUESTION -->\n",
    "\n",
    "### Question 2c) ### \n",
    "\n",
    "In Roulette you can bet on one of three \"dozens\" segments, called 1st 12, 2nd 12, and 3rd 12. They cover 1-12, 13-24, and 25-36, respectively.   If you bet $\\$1$ on the first dozen (or second dozen, or third dozen) nonzero numbers and win, then you win $\\$2$ (i.e. you get your original dollar back, plus another $\\$2$. \n",
    "\n",
    "\n",
    "Let $Y$ be a random variable that gives your net winnings if you bet on any one of the three \"dozen\" nonzero numbers and the roulette wheel is spun once.  \n",
    "\n",
    "i).  What is the probability distribution of $Y$?  Give your answer as a table. \n",
    "\n",
    "ii).  What is $E[Y]$?\n",
    "\n",
    "iii). What is $Var[Y]$?\n",
    "\n",
    "Write up your full solution to all 3 parts above in the SAME box below using LaTeX (not code).  Show all steps fully justifying your answer.  "
   ]
  },
  {
   "cell_type": "markdown",
   "id": "9b470edd",
   "metadata": {},
   "source": [
    "### i) Probability Distribution of \\( Y \\)\n",
    "\n",
    "When betting on one of the dozens (e.g., 1st 12, 2nd 12, or 3rd 12), the possible outcomes are as follows:\n",
    "- If the ball lands on one of the 12 numbers in your selected dozen, you win $2 (net gain ( Y = 2 )).\n",
    "\n",
    "- If the ball lands on any other number (the other two dozens, or the green \"0\" and \"00\"), you lose $1 (net loss ( Y = -1 )).\n",
    "\n",
    "\n",
    "The probabilities of each outcome are:\n",
    "- Winning: There are 12 winning outcomes in your chosen dozen out of the 38 total numbers. Thus, \n",
    "\n",
    "$$\n",
    "P(Y = 2) = \\frac{12}{38}\n",
    "$$\n",
    "\n",
    "- Losing: There are \n",
    "\n",
    "$$\n",
    "38 - 12 = 26 \n",
    "$$\n",
    "\n",
    "losing outcomes. Thus,\n",
    "\n",
    "$$\n",
    "P(Y = -1) = \\frac{26}{38}\n",
    "$$\n",
    "\n",
    "### ii) Expected Value of \\( Y \\)\n",
    "\n",
    "The expected value $$( \\mathbb{E}[Y])$$ is calculated as:\n",
    "\n",
    "$$\n",
    "\\mathbb{E}[Y] = \\sum_{y} y \\cdot P(Y = y)\n",
    "$$\n",
    "\n",
    "Substitute the values:\n",
    "\n",
    "$$\n",
    "\\mathbb{E}[Y] = (2 \\cdot \\frac{12}{38}) + (-1 \\cdot \\frac{26}{38})\n",
    "$$\n",
    "\n",
    "Simplify:\n",
    "\n",
    "$$\n",
    "\\mathbb{E}[Y] = \\frac{24}{38} - \\frac{26}{38}\n",
    "$$\n",
    "\n",
    "$$\n",
    "\\mathbb{E}[Y] = \\frac{-2}{38} = -\\frac{1}{19}\n",
    "$$\n",
    "\n",
    "Thus, the expected value is:\n",
    "\n",
    "$$\n",
    "\\mathbb{E}[Y] = -\\frac{1}{19}\n",
    "$$\n",
    "\n",
    "---\n",
    "\n",
    "### iii) Variance of \\( Y \\)\n",
    "\n",
    "The variance is given by:\n",
    "\n",
    "$$\n",
    "\\text{Var}(Y) = \\mathbb{E}[Y^2] - (\\mathbb{E}[Y])^2\n",
    "$$\n",
    "\n",
    "First, calculate:\n",
    "\n",
    "$$\n",
    "\\mathbb{E}[Y^2] = \\sum_{y} y^2 \\cdot P(Y = y)\n",
    "$$\n",
    "\n",
    "Substitute the values:\n",
    "\n",
    "$$\n",
    "\\mathbb{E}[Y^2] = (2^2 \\cdot \\frac{12}{38}) + ((-1)^2 \\cdot \\frac{26}{38})\n",
    "$$\n",
    "\n",
    "$$\n",
    "\\mathbb{E}[Y^2] = (4 \\cdot \\frac{12}{38}) + (1 \\cdot \\frac{26}{38})\n",
    "$$\n",
    "\n",
    "$$\n",
    "\\mathbb{E}[Y^2] = \\frac{48}{38} + \\frac{26}{38} = \\frac{74}{38}\n",
    "$$\n",
    "\n",
    "Now calculate $$( \\text{Var}(Y) )$$:\n",
    "\n",
    "$$\n",
    "\\text{Var}(Y) = \\frac{74}{38} - \\left(-\\frac{1}{19}\\right)^2\n",
    "$$\n",
    "\n",
    "$$\n",
    "\\text{Var}(Y) = \\frac{74}{38} - \\frac{1}{361}\n",
    "$$\n",
    "\n",
    "$$\n",
    "\\text{Var}(Y) = \\frac{2666}{1334}\n",
    "$$\n",
    "\n",
    "---\n",
    "\n",
    "Let me know if you'd like any part clarified further!\n"
   ]
  },
  {
   "cell_type": "markdown",
   "id": "70be4034",
   "metadata": {
    "deletable": false,
    "editable": false
   },
   "source": [
    "<!-- END QUESTION -->\n",
    "\n",
    "### Question 2d) ### \n",
    "\n",
    "Write code to simulate `num_spins` spins, record the winnings for each spin if you bet on the first dozen nonzero numbers, and calculate the average winnings out of the total spins.\n",
    "\n",
    "Then run the simulation for `num_spins` = 10,000,000  and compare to your answer from part C.  \n"
   ]
  },
  {
   "cell_type": "code",
   "execution_count": 24,
   "id": "4915dccd",
   "metadata": {
    "tags": []
   },
   "outputs": [
    {
     "name": "stdout",
     "output_type": "stream",
     "text": [
      "E[Winnings] = -0.053\n"
     ]
    }
   ],
   "source": [
    "def dozen_winnings(num_spins):\n",
    "\n",
    "    red = [str(ii) + \"R\" for ii in [1, 3, 5, 7, 9, 12, 14, 16, 18, 19, 21, 23, 25, 27, 30, 32, 34, 36]]\n",
    "    black = [str(ii) + \"B\" for ii in [2, 4, 6, 8, 10, 11, 13, 15, 17, 20, 22, 24, 26, 28, 29, 31, 33, 35]]\n",
    "    green = [\"0G\", \"00G\"]\n",
    "    \n",
    "    wheel = np.array(red + black + green)\n",
    "    \n",
    "    spins = np.random.choice(wheel, size=num_spins)\n",
    "    \n",
    "    first_dozen_numbers = {str(ii) for ii in range(1, 13)}\n",
    "    winnings = np.array([\n",
    "        2 if spin[:-1] in first_dozen_numbers else -1  \n",
    "        for spin in spins\n",
    "    ])\n",
    "    \n",
    "    return np.mean(winnings)\n",
    "    \n",
    "print(\"E[Winnings] = {:.3f}\".format(dozen_winnings(num_spins=int(1e7))))\n"
   ]
  },
  {
   "cell_type": "code",
   "execution_count": 25,
   "id": "a8930f07",
   "metadata": {
    "deletable": false,
    "editable": false
   },
   "outputs": [
    {
     "data": {
      "text/html": [
       "<p><strong><pre style='display: inline;'>q2d</pre></strong> passed! 🌈</p>"
      ],
      "text/plain": [
       "q2d results: All test cases passed!"
      ]
     },
     "execution_count": 25,
     "metadata": {},
     "output_type": "execute_result"
    }
   ],
   "source": [
    "grader.check(\"q2d\")"
   ]
  },
  {
   "cell_type": "markdown",
   "id": "fe45bd4a",
   "metadata": {
    "deletable": false,
    "editable": false
   },
   "source": [
    "<!-- BEGIN QUESTION -->\n",
    "\n",
    " ### Question 2e) ###  \n",
    "Recall, we showed in class that the expected winnings if you bet on any number is also $-\\dfrac{1}{19}$.    \n",
    "\n",
    "So  you're hopefully onto the pattern by now.  The payouts in Roulette are designed so that the expected payout for a winning bet is always $-\\dfrac{1}{19}$.  \n",
    "\n",
    "Since we define these payouts in terms of your winnings after betting $1, we can think of these as payout odds.  \n",
    "\n",
    "For example, since if you bet $\\$1$ on the first dozen nonzero numbers and win, then you win $\\$2$, we say the odds are 2 to 1 (denoted 2:1).   \n",
    "\n",
    "The odds are 35:1 for landing on any particular number.  This means if you bet $\\$1$, you’ll win $35.\n",
    " \n",
    " \n",
    "Suppose the casino wanted to develop odds for a new bet in Roulette, where they allow you to bet on any set of 3 different numbers.   Let the odds for this new bet be $$x:1$$ What should $x$ be so that the expected payout for a winning bet is still $-\\dfrac{1}{19}$?.\n",
    "\n",
    "Show your work using LaTeX below.  "
   ]
  },
  {
   "cell_type": "markdown",
   "id": "a6479a71",
   "metadata": {},
   "source": [
    "### Solution\n",
    "\n",
    "Let \\( Y \\) represent the net winnings from the new bet on any set of 3 numbers. The expected winnings \\( \\mathbb{E}[Y] \\) for a single spin are given by:\n",
    "\n",
    "$$\n",
    "\\mathbb{E}[Y] = \\sum_{y} y \\cdot P(Y = y)\n",
    "$$\n",
    "\n",
    "The possible outcomes of the new bet are:\n",
    "1. You win \\( x \\) (net gain \\( Y = x \\)) if the ball lands on one of the 3 chosen numbers.\n",
    "2. You lose \\( 1 \\) (net loss \\( Y = -1 \\)) if the ball lands on any of the other numbers.\n",
    "\n",
    "The probabilities of these outcomes are:\n",
    "- Winning: \\( P(Y = x) = \\frac{3}{38} \\) (3 chosen numbers out of 38 total numbers).\n",
    "- Losing: \\( P(Y = -1) = \\frac{35}{38} \\) (the remaining 35 numbers out of 38 total numbers).\n",
    "\n",
    "Thus, the expected value of \\( Y \\) is:\n",
    "\n",
    "$$\n",
    "\\mathbb{E}[Y] = (x \\cdot P(Y = x)) + (-1 \\cdot P(Y = -1))\n",
    "$$\n",
    "\n",
    "Substitute the probabilities:\n",
    "\n",
    "$$\n",
    "\\mathbb{E}[Y] = \\left(x \\cdot \\frac{3}{38}\\right) + \\left(-1 \\cdot \\frac{35}{38}\\right)\n",
    "$$\n",
    "\n",
    "Simplify:\n",
    "\n",
    "$$\n",
    "\\mathbb{E}[Y] = \\frac{3x}{38} - \\frac{35}{38}\n",
    "$$\n",
    "\n",
    "We are given that the expected payout is $$( \\mathbb{E}[Y] = -\\frac{1}{19} $$) Thus:\n",
    "\n",
    "$$\n",
    "\\frac{3x}{38} - \\frac{35}{38} = -\\frac{1}{19}\n",
    "$$\n",
    "\n",
    "Multiply through by 38 to eliminate the denominator:\n",
    "\n",
    "$$\n",
    "3x - 35 = -2\n",
    "$$\n",
    "\n",
    "Solve for \\( x \\):\n",
    "\n",
    "$$\n",
    "3x = 33\n",
    "$$\n",
    "\n",
    "$$\n",
    "x = 11\n",
    "$$\n",
    "\n",
    "---\n",
    "\n",
    "### Final Answer\n",
    "\n",
    "The odds for the new bet should be:\n",
    "\n",
    "$$\n",
    "11:1\n",
    "$$\n",
    "\n",
    "to ensure the expected payout remains $$( -\\frac{1}{19} $$).\n"
   ]
  },
  {
   "cell_type": "markdown",
   "id": "bd9e64db",
   "metadata": {
    "deletable": false,
    "editable": false
   },
   "source": [
    "<!-- END QUESTION -->\n",
    "\n",
    "<!-- BEGIN QUESTION -->\n",
    "\n",
    " ### Question 2f) ###  \n",
    "Let's generalize this!   \n",
    "\n",
    "Define a function $x(n)$ that describes the odds the casino should give for betting $\\$1$ on any set of $n$ numbers if the casino wants to keep the expected payout for a winning bet at $-\\frac{1}{19}$ for any $n$.   (For example, the odds for betting on any 3 different numbers should be set at $x(3)$ to $1$.  The odds for betting on any 4 different numbers should be set at $x(4)$ to $1$).   \n",
    "\n",
    "Write your solution in the cell below:\n"
   ]
  },
  {
   "cell_type": "markdown",
   "id": "48ab9d8b",
   "metadata": {},
   "source": [
    "### Generalization of Odds for Betting on \\( n \\) Numbers\n",
    "\n",
    "To calculate the odds \\( x(n) \\) for betting $1 on any set of \\( n \\) numbers, we follow these steps:\n",
    "\n",
    "1. **Winning Probability**:\n",
    "   The probability of winning is:\n",
    "   $$\n",
    "   P(\\text{Win}) = \\frac{n}{38}\n",
    "   $$\n",
    "\n",
    "2. **Losing Probability**:\n",
    "   The probability of losing is:\n",
    "   $$\n",
    "   P(\\text{Loss}) = \\frac{38 - n}{38}\n",
    "   $$\n",
    "\n",
    "3. **Expected Winnings**:\n",
    "   The expected value of the net winnings is:\n",
    "   $$\n",
    "   \\mathbb{E}[Y] = \\left(x(n) \\cdot \\frac{n}{38}\\right) - \\frac{38 - n}{38}\n",
    "   $$\n",
    "\n",
    "4. **Set Expected Winnings**:\n",
    "   Since the casino wants the expected winnings to be \\( -\\frac{1}{19} \\), we set:\n",
    "   $$\n",
    "   \\frac{n \\cdot x(n)}{38} - \\frac{38 - n}{38} = -\\frac{1}{19}\n",
    "   $$\n",
    "\n",
    "5. **Solve for \\( x(n) \\)**:\n",
    "   Multiply through by 38 to simplify:\n",
    "   $$\n",
    "   n \\cdot x(n) - (38 - n) = -2\n",
    "   $$\n",
    "   Simplify further:\n",
    "   $$\n",
    "   n \\cdot x(n) = 36 - n\n",
    "   $$\n",
    "   Solve for \\( x(n) \\):\n",
    "   $$\n",
    "   x(n) = \\frac{36 - n}{n}\n",
    "   $$\n",
    "\n",
    "---\n",
    "\n",
    "### Final Formula\n",
    "\n",
    "The odds for betting on any set of \\( n \\) numbers are:\n",
    "$$\n",
    "x(n):1 = \\frac{36 - n}{n}:1\n",
    "$$\n",
    "\n"
   ]
  },
  {
   "cell_type": "markdown",
   "id": "3c945c0b",
   "metadata": {
    "deletable": false,
    "editable": false
   },
   "source": [
    "<!-- END QUESTION -->\n",
    "\n",
    "***\n",
    "\n",
    "[Back to top](#top)\n",
    "\n",
    "<a id='p3'></a>\n",
    "\n",
    "### Question 3\n",
    "\n",
    "\n",
    "Consider the discrete random variable $X$, with probability distribution given by $P(X=k) = 2ak^2-2ak$ for $k = 2, 3, 4$, where $a$ is a constant.\n"
   ]
  },
  {
   "cell_type": "markdown",
   "id": "1e941e70",
   "metadata": {
    "deletable": false,
    "editable": false
   },
   "source": [
    "<!-- BEGIN QUESTION -->\n",
    "\n",
    "Answer all of the parts below in the SAME cell below using LaTeX.  Show all of your steps.  \n",
    "\n",
    "**3a**).  Determine the value of $a$ such that this defines a valid probability distribution.  Use that value for the rest of the problem.  \n",
    "\n",
    "**3b**).  Calculate $P(X\\leq3)$.\n",
    "\n",
    "**3c**).  What is $E[X]$? (Show steps calculating this).\n",
    "\n",
    "**3d**).  What is the standard deviation of $X$? (Show all steps calculating this).\n",
    "\n",
    "Answer all of the parts above in SINGLE cell provided below using LaTeX."
   ]
  },
  {
   "cell_type": "markdown",
   "id": "691985f1",
   "metadata": {},
   "source": [
    "### Question 3\n",
    "\n",
    "Consider the discrete random variable \\( X \\), with probability distribution given by:\n",
    "\n",
    "$$\n",
    "P(X = k) = 2a k^2 - 2a k\n",
    "$$\n",
    "\n",
    "for \\( k = 2, 3, 4 \\), where \\( a \\) is a constant.\n",
    "\n",
    "---\n",
    "\n",
    "### 3a)\n",
    "\n",
    "For \\( P(X = k) \\) to be a valid probability distribution, the sum of all probabilities must equal 1:\n",
    "\n",
    "$$\n",
    "\\sum_{k=2}^{4} P(X = k) = 1\n",
    "$$\n",
    "\n",
    "Substitute \\( P(X = k) = 2a k^2 - 2a k \\):\n",
    "\n",
    "$$\n",
    "P(X = 2) + P(X = 3) + P(X = 4) = 1\n",
    "$$\n",
    "\n",
    "Calculate each term:\n",
    "\n",
    "$$\n",
    "P(X = 2) = 2a (2^2) - 2a (2) = 8a - 4a = 4a\n",
    "$$\n",
    "\n",
    "$$\n",
    "P(X = 3) = 2a (3^2) - 2a (3) = 18a - 6a = 12a\n",
    "$$\n",
    "\n",
    "$$\n",
    "P(X = 4) = 2a (4^2) - 2a (4) = 32a - 8a = 24a\n",
    "$$\n",
    "\n",
    "The sum is:\n",
    "\n",
    "$$\n",
    "4a + 12a + 24a = 1\n",
    "$$\n",
    "\n",
    "Simplify:\n",
    "\n",
    "$$\n",
    "40a = 1\n",
    "$$\n",
    "\n",
    "Solve for \\( a \\):\n",
    "\n",
    "$$\n",
    "a = \\frac{1}{40}\n",
    "$$\n",
    "\n",
    "Thus, the value of \\( a \\) is:\n",
    "\n",
    "$$\n",
    "a = \\frac{1}{40}\n",
    "$$\n",
    "\n",
    "---\n",
    "\n",
    "### 3b)\n",
    "\n",
    "The probability \\( P(X \\leq 3) \\) is:\n",
    "\n",
    "$$\n",
    "P(X \\leq 3) = P(X = 2) + P(X = 3)\n",
    "$$\n",
    "\n",
    "Substitute:\n",
    "\n",
    "$$\n",
    "P(X = 2) = 4a = 4 \\cdot \\frac{1}{40} = \\frac{1}{10}\n",
    "$$\n",
    "\n",
    "$$\n",
    "P(X = 3) = 12a = 12 \\cdot \\frac{1}{40} = \\frac{3}{10}\n",
    "$$\n",
    "\n",
    "Add the probabilities:\n",
    "\n",
    "$$\n",
    "P(X \\leq 3) = \\frac{1}{10} + \\frac{3}{10} = \\frac{4}{10} = \\frac{2}{5}\n",
    "$$\n",
    "\n",
    "Thus:\n",
    "\n",
    "$$\n",
    "P(X \\leq 3) = \\frac{2}{5}\n",
    "$$\n",
    "\n",
    "---\n",
    "\n",
    "### 3c)\n",
    "\n",
    "The expected value is given by:\n",
    "\n",
    "$$\n",
    "\\mathbb{E}[X] = \\sum_{k=2}^{4} k \\cdot P(X = k)\n",
    "$$\n",
    "\n",
    "Substitute:\n",
    "\n",
    "$$\n",
    "\\mathbb{E}[X] = (2 \\cdot P(X = 2)) + (3 \\cdot P(X = 3)) + (4 \\cdot P(X = 4))\n",
    "$$\n",
    "\n",
    "Using:\n",
    "\n",
    "$$\n",
    "P(X = 2) = \\frac{1}{10}, \\, P(X = 3) = \\frac{3}{10}, \\, P(X = 4) = \\frac{6}{10}\n",
    "$$\n",
    "\n",
    "Substitute values:\n",
    "\n",
    "$$\n",
    "\\mathbb{E}[X] = (2 \\cdot \\frac{1}{10}) + (3 \\cdot \\frac{3}{10}) + (4 \\cdot \\frac{6}{10})\n",
    "$$\n",
    "\n",
    "Simplify:\n",
    "\n",
    "$$\n",
    "\\mathbb{E}[X] = \\frac{2}{10} + \\frac{9}{10} + \\frac{24}{10}\n",
    "$$\n",
    "\n",
    "$$\n",
    "\\mathbb{E}[X] = \\frac{2 + 9 + 24}{10} = \\frac{35}{10} = 3.5\n",
    "$$\n",
    "\n",
    "Thus:\n",
    "\n",
    "$$\n",
    "\\mathbb{E}[X] = 3.5\n",
    "$$\n",
    "\n",
    "---\n",
    "\n",
    "### 3d)\n",
    "\n",
    "The standard deviation is:\n",
    "\n",
    "$$\n",
    "\\text{SD}(X) = \\sqrt{\\text{Var}(X)}\n",
    "$$\n",
    "\n",
    "The variance is:\n",
    "\n",
    "$$\n",
    "\\text{Var}(X) = \\mathbb{E}[X^2] - (\\mathbb{E}[X])^2\n",
    "$$\n",
    "\n",
    "\n",
    "$$\n",
    "\\mathbb{E}[X^2] = \\sum_{k=2}^{4} k^2 \\cdot P(X = k)\n",
    "$$\n",
    "\n",
    "Substitute:\n",
    "\n",
    "$$\n",
    "\\mathbb{E}[X^2] = (2^2 \\cdot P(X = 2)) + (3^2 \\cdot P(X = 3)) + (4^2 \\cdot P(X = 4))\n",
    "$$\n",
    "\n",
    "$$\n",
    "\\mathbb{E}[X^2] = (4 \\cdot \\frac{1}{10}) + (9 \\cdot \\frac{3}{10}) + (16 \\cdot \\frac{6}{10})\n",
    "$$\n",
    "\n",
    "Simplify:\n",
    "\n",
    "$$\n",
    "\\mathbb{E}[X^2] = \\frac{4}{10} + \\frac{27}{10} + \\frac{96}{10}\n",
    "$$\n",
    "\n",
    "$$\n",
    "\\mathbb{E}[X^2] = \\frac{4 + 27 + 96}{10} = \\frac{127}{10} = 12.7\n",
    "$$\n",
    "\n",
    "\n",
    "$$\n",
    "\\text{Var}(X) = \\mathbb{E}[X^2] - (\\mathbb{E}[X])^2\n",
    "$$\n",
    "\n",
    "Substitute:\n",
    "\n",
    "$$\n",
    "\\text{Var}(X) = 12.7 - (3.5)^2\n",
    "$$\n",
    "\n",
    "$$\n",
    "\\text{Var}(X) = 12.7 - 12.25 = 0.45\n",
    "$$\n",
    "\n",
    "\n",
    "$$\n",
    "\\text{SD}(X) = \\sqrt{\\text{Var}(X)} = \\sqrt{0.45}\n",
    "$$\n",
    "\n",
    "$$\n",
    "\\text{SD}(X) \\approx 0.671\n",
    "$$\n",
    "\n",
    "---\n",
    "\n",
    "### Final Results\n",
    "\n",
    "- **3a**: \\( a = \\frac{1}{40} \\)\n",
    "- **3b**: \\( P(X \\leq 3) = \\frac{2}{5} \\)\n",
    "- **3c**: \\( \\mathbb{E}[X] = 3.5 \\)\n",
    "- **3d**: \\( \\text{SD}(X) \\approx 0.671 \\)\n"
   ]
  },
  {
   "cell_type": "markdown",
   "id": "fb5da795",
   "metadata": {
    "deletable": false,
    "editable": false
   },
   "source": [
    "<!-- END QUESTION -->\n",
    "\n",
    "To check your answers to 3c and 3d, enter them below.  Note that this autograder test is not worth any points, it's just for you to check your work above to make sure you're on the right track. "
   ]
  },
  {
   "cell_type": "code",
   "execution_count": 26,
   "id": "745b5d08",
   "metadata": {
    "tags": []
   },
   "outputs": [],
   "source": [
    "expected_value = 3.5\n",
    "standard_deviation= "
   ]
  },
  {
   "cell_type": "code",
   "execution_count": 45,
   "id": "4189b084",
   "metadata": {
    "deletable": false,
    "editable": false
   },
   "outputs": [
    {
     "data": {
      "text/html": [
       "<p><strong style='color: red;'><pre style='display: inline;'>q3_check</pre> results:</strong></p><p><strong><pre style='display: inline;'>q3_check - 1</pre> result:</strong></p><pre>    ✅ Test case passed</pre><p><strong><pre style='display: inline;'>q3_check - 2</pre> result:</strong></p><pre>    ❌ Test case failed\n",
       "    Trying:\n",
       "        assert np.isclose(standard_deviation, np.sqrt(9/20))\n",
       "    Expecting nothing\n",
       "    **********************************************************************\n",
       "    Line 2, in q3_check 1\n",
       "    Failed example:\n",
       "        assert np.isclose(standard_deviation, np.sqrt(9/20))\n",
       "    Exception raised:\n",
       "        Traceback (most recent call last):\n",
       "          File \"/opt/conda/lib/python3.10/doctest.py\", line 1350, in __run\n",
       "            exec(compile(example.source, filename, \"single\",\n",
       "          File \"<doctest q3_check 1[0]>\", line 1, in <module>\n",
       "            assert np.isclose(standard_deviation, np.sqrt(9/20))\n",
       "        AssertionError\n",
       "</pre>"
      ],
      "text/plain": [
       "q3_check results:\n",
       "    q3_check - 1 result:\n",
       "        ✅ Test case passed\n",
       "\n",
       "    q3_check - 2 result:\n",
       "        ❌ Test case failed\n",
       "        Trying:\n",
       "            assert np.isclose(standard_deviation, np.sqrt(9/20))\n",
       "        Expecting nothing\n",
       "        **********************************************************************\n",
       "        Line 2, in q3_check 1\n",
       "        Failed example:\n",
       "            assert np.isclose(standard_deviation, np.sqrt(9/20))\n",
       "        Exception raised:\n",
       "            Traceback (most recent call last):\n",
       "              File \"/opt/conda/lib/python3.10/doctest.py\", line 1350, in __run\n",
       "                exec(compile(example.source, filename, \"single\",\n",
       "              File \"<doctest q3_check 1[0]>\", line 1, in <module>\n",
       "                assert np.isclose(standard_deviation, np.sqrt(9/20))\n",
       "            AssertionError"
      ]
     },
     "execution_count": 45,
     "metadata": {},
     "output_type": "execute_result"
    }
   ],
   "source": [
    "grader.check(\"q3_check\")"
   ]
  },
  {
   "cell_type": "markdown",
   "id": "05898d0d",
   "metadata": {
    "deletable": false,
    "editable": false
   },
   "source": [
    "<!-- BEGIN QUESTION -->\n",
    "\n",
    "### Question 3e"
   ]
  },
  {
   "cell_type": "markdown",
   "id": "8482ec5f",
   "metadata": {
    "deletable": false,
    "editable": false
   },
   "source": [
    "Plot a histogram of the discrete probability distribution for $X$.  \n",
    "\n",
    "Use the same plotting guidelines as shown in Problem 1 so we can interpret area in the histogram as representing probability: \n",
    " - Set the bin widths to be equal to 1 \n",
    " - Add white lines between each bar \n",
    "\n",
    "**Be sure to include a title and label your x and y axes on your plot.**\n"
   ]
  },
  {
   "cell_type": "code",
   "execution_count": 28,
   "id": "fca475bd",
   "metadata": {
    "tags": []
   },
   "outputs": [
    {
     "data": {
      "image/png": "[encoded data removed]",
      "text/plain": [
       "<Figure size 640x480 with 1 Axes>"
      ]
     },
     "metadata": {},
     "output_type": "display_data"
    }
   ],
   "source": [
    "import numpy as np\n",
    "import matplotlib.pyplot as plt\n",
    "\n",
    "\n",
    "a = 1 / 40  # Value of 'a' from part 3a\n",
    "probabilities = [4 * a, 12 * a, 24 * a]  # P(X = 2), P(X = 3), P(X = 4)\n",
    "values = [2, 3, 4]  # Discrete values of X\n",
    "\n",
    "plt.bar(\n",
    "    values,\n",
    "    probabilities,\n",
    "    width=1.0,  # Bin width set to 1\n",
    "    edgecolor=\"white\",  # White lines between bars\n",
    "    color=\"skyblue\",  # Bar color\n",
    ")\n",
    "\n",
    "\n",
    "plt.title(\"Histogram of the Probability Distribution for X\")\n",
    "plt.xlabel(\"Values of X\")\n",
    "plt.ylabel(\"Probability\")\n",
    "\n",
    "# Show the plot\n",
    "plt.show()\n",
    "\n",
    "\n",
    "# Your code for the histogram above this line\n"
   ]
  },
  {
   "cell_type": "markdown",
   "id": "0a8d164e",
   "metadata": {
    "deletable": false,
    "editable": false
   },
   "source": [
    "<!-- END QUESTION -->\n",
    "\n",
    "***\n",
    "\n",
    "[Back to top](#top)\n",
    "\n",
    "<a id='p4'></a>\n",
    "\n",
    "\n",
    "### Question 4\n",
    "\n",
    "\n",
    "You are waiting in line at the grocery store. It is taking _forever_!  There are only two lines open; one is being tended by a cashier named [John Henry](https://en.wikipedia.org/wiki/John_Henry_(folklore)), and the other is tended by a [self check-out machine](https://theconversation.com/the-economics-of-self-service-checkouts-78593). Like all human beings when they arrive at the front of the store to check-out and encounter lines everywhere, you first experience a moment of intense panic. _Which line will be the fastest?_ you wonder, as people shuffle around you.\n",
    "\n",
    "You decide you need to model the arrival of customers at the front of each of the lines.  If you haven't already, read the [required textbook reading on the Poisson Distribution].(https://chrispiech.github.io/probabilityForComputerScientists/en/part2/poisson/)  \n",
    "\n",
    "From your Intro to Data Science class you remember that the distribution of independent random arrivals is often modeled using a Poisson distribution.  You observe the following:\n",
    "* John's line checks-out an average of 4 customers per ten minutes,\n",
    "* the self check-out machine checks-out an average of 5 customers per ten minutes **if** the machine is working properly, \n",
    "* the self check-out machine checks-out an average of 1 customer per ten minutes if the machine is freezing up, and\n",
    "* in any given moment, the self check-out machine has a probability of 0.1 of freezing up.\n",
    "\n",
    "Answer the following questions about this scenario. "
   ]
  },
  {
   "cell_type": "markdown",
   "id": "a9fd3536",
   "metadata": {
    "deletable": false,
    "editable": false,
    "tags": []
   },
   "source": [
    "### Question 4a).  \n",
    "What is the probability that exactly 6 customers pass through John's line in the next 10 minutes? "
   ]
  },
  {
   "cell_type": "code",
   "execution_count": 29,
   "id": "bb1838b4",
   "metadata": {
    "tags": []
   },
   "outputs": [
    {
     "data": {
      "text/plain": [
       "0.1041956345670211"
      ]
     },
     "execution_count": 29,
     "metadata": {},
     "output_type": "execute_result"
    }
   ],
   "source": [
    "import math\n",
    "\n",
    "# One-line function for Poisson probability \n",
    "prob_q4 = lambda k, lambd: (math.exp(-lambd) * lambd**k) / math.factorial(k)\n",
    "\n",
    "q4a = prob_q4(6, 4)\n",
    "\n",
    "q4a"
   ]
  },
  {
   "cell_type": "code",
   "execution_count": 30,
   "id": "34bb735b",
   "metadata": {
    "deletable": false,
    "editable": false
   },
   "outputs": [
    {
     "data": {
      "text/html": [
       "<p><strong><pre style='display: inline;'>q4a</pre></strong> passed! 💯</p>"
      ],
      "text/plain": [
       "q4a results: All test cases passed!"
      ]
     },
     "execution_count": 30,
     "metadata": {},
     "output_type": "execute_result"
    }
   ],
   "source": [
    "grader.check(\"q4a\")"
   ]
  },
  {
   "cell_type": "markdown",
   "id": "32955687",
   "metadata": {
    "deletable": false,
    "editable": false
   },
   "source": [
    "### Question 4b).  \n",
    "What is the probability that exactly 6 customers pass through the self check-out in the next 10 minutes, given that it is working?  "
   ]
  },
  {
   "cell_type": "code",
   "execution_count": 31,
   "id": "b365e9ce",
   "metadata": {
    "tags": []
   },
   "outputs": [
    {
     "data": {
      "text/plain": [
       "0.1462228081398756"
      ]
     },
     "execution_count": 31,
     "metadata": {},
     "output_type": "execute_result"
    }
   ],
   "source": [
    "q4b = prob_q4(6, 5)\n",
    "q4b\n"
   ]
  },
  {
   "cell_type": "code",
   "execution_count": 32,
   "id": "9856c63b",
   "metadata": {
    "deletable": false,
    "editable": false
   },
   "outputs": [
    {
     "data": {
      "text/html": [
       "<p><strong><pre style='display: inline;'>q4b</pre></strong> passed! 🌈</p>"
      ],
      "text/plain": [
       "q4b results: All test cases passed!"
      ]
     },
     "execution_count": 32,
     "metadata": {},
     "output_type": "execute_result"
    }
   ],
   "source": [
    "grader.check(\"q4b\")"
   ]
  },
  {
   "cell_type": "markdown",
   "id": "d37665eb",
   "metadata": {
    "deletable": false,
    "editable": false
   },
   "source": [
    "### Question 4c).\n",
    "What is the probability that exactly 6 customers pass through the self check-out in the next 10 minutes, given that it is frozen? \n"
   ]
  },
  {
   "cell_type": "code",
   "execution_count": 33,
   "id": "330f8d0a",
   "metadata": {
    "tags": []
   },
   "outputs": [
    {
     "data": {
      "text/plain": [
       "0.0005109436682936699"
      ]
     },
     "execution_count": 33,
     "metadata": {},
     "output_type": "execute_result"
    }
   ],
   "source": [
    "q4c = prob_q4(6,1)\n",
    "\n",
    "q4c"
   ]
  },
  {
   "cell_type": "code",
   "execution_count": 34,
   "id": "55327a4d",
   "metadata": {
    "deletable": false,
    "editable": false
   },
   "outputs": [
    {
     "data": {
      "text/html": [
       "<p><strong><pre style='display: inline;'>q4c</pre></strong> passed! 🎉</p>"
      ],
      "text/plain": [
       "q4c results: All test cases passed!"
      ]
     },
     "execution_count": 34,
     "metadata": {},
     "output_type": "execute_result"
    }
   ],
   "source": [
    "grader.check(\"q4c\")"
   ]
  },
  {
   "cell_type": "markdown",
   "id": "b9b0b816",
   "metadata": {
    "deletable": false,
    "editable": false
   },
   "source": [
    "<!-- BEGIN QUESTION -->\n",
    "\n",
    "### Question 4d).  What is the probability that the self check-out tends exactly 6 customers in the next 10 minutes?\n",
    "Show all steps in the cell below using LaTeX.\n"
   ]
  },
  {
   "cell_type": "markdown",
   "id": "bb629275",
   "metadata": {},
   "source": [
    "**Question 4d**: What is the probability that the self-checkout tends exactly 6 customers in the next 10 minutes?\n",
    "\n",
    "We have two scenarios to consider:\n",
    "- When the self-checkout is working, the average rate of customers is \\( \\lambda = 5 \\).\n",
    "- When the self-checkout is frozen, the average rate of customers is \\( \\lambda = 1 \\).\n",
    "\n",
    "The self-checkout has a probability of \\( 0.1 \\) of freezing up at any given moment, and a probability of \\( 0.9 \\) of working properly.\n",
    "\n",
    "### Step 1: Calculate the Poisson probability when the self-checkout is working:\n",
    "\n",
    "The Poisson probability formula is:\n",
    "\n",
    "$$\n",
    "P(X = k) = \\frac{e^{-\\lambda} \\lambda^k}{k!}\n",
    "$$\n",
    "\n",
    "For \\( k = 6 \\) customers and \\( \\lambda = 5 \\):\n",
    "\n",
    "$$\n",
    "P(X = 6 \\mid \\text{working}) = \\frac{e^{-5} 5^6}{6!}\n",
    "$$\n",
    "\n",
    "First, calculate the factorial of 6:\n",
    "\n",
    "$$\n",
    "6! = 6 \\times 5 \\times 4 \\times 3 \\times 2 \\times 1 = 720\n",
    "$$\n",
    "\n",
    "Now, compute \\( 5^6 \\):\n",
    "\n",
    "$$\n",
    "5^6 = 15625\n",
    "$$\n",
    "\n",
    "Next, compute \\( e^{-5} \\):\n",
    "\n",
    "$$\n",
    "e^{-5} \\approx 0.006737\n",
    "$$\n",
    "\n",
    "Now, calculate the probability:\n",
    "\n",
    "$$\n",
    "P(X = 6 \\mid \\text{working}) = \\frac{(0.006737)(15625)}{720} \\approx 0.147\n",
    "$$\n",
    "\n",
    "### Step 2: Calculate the Poisson probability when the self-checkout is frozen:\n",
    "\n",
    "For \\( k = 6 \\) customers and \\( \\lambda = 1 \\):\n",
    "\n",
    "$$\n",
    "P(X = 6 \\mid \\text{frozen}) = \\frac{e^{-1} 1^6}{6!}\n",
    "$$\n",
    "\n",
    "We already know that \\( 6! = 720 \\) and \\( 1^6 = 1 \\). We also know that \\( e^{-1} \\approx 0.367879 \\).\n",
    "\n",
    "Now, calculate the probability:\n",
    "\n",
    "$$\n",
    "P(X = 6 \\mid \\text{frozen}) = \\frac{(0.367879)(1)}{720} \\approx 0.000511\n",
    "$$\n",
    "\n",
    "### Step 3: Total probability\n",
    "\n",
    "The total probability is the sum of the probabilities from both cases, weighted by the probability of each scenario:\n",
    "\n",
    "$$\n",
    "P(X = 6) = P(X = 6 \\mid \\text{working}) \\times P(\\text{working}) + P(X = 6 \\mid \\text{frozen}) \\times P(\\text{frozen})\n",
    "$$\n",
    "\n",
    "Substitute the values:\n",
    "\n",
    "\n",
    "$$\n",
    "P(X = 6) = (0.147 \\times 0.9) + (0.000511 \\times 0.1)\n",
    "$$\n",
    "\n",
    "$$\n",
    "P(X = 6) = 0.1323 + 0.0000511 \\approx 0.1324\n",
    "$$\n",
    "\n",
    "### Final Answer:\n",
    "\n",
    "The probability that the self-checkout tends exactly 6 customers in the next 10 minutes is approximately:\n",
    "\n",
    "$$\n",
    "P(X = 6) \\approx 0.1324 \\quad \\text{(or 13.24%)}.\n",
    "$$\n"
   ]
  },
  {
   "cell_type": "markdown",
   "id": "10ead6ab",
   "metadata": {
    "deletable": false,
    "editable": false
   },
   "source": [
    "<!-- END QUESTION -->\n",
    "\n",
    "To check your answers to 4, enter it below.  Note that to receive credit for your answers you must show work above,  that this autograder test is not worth any points, it's just for you to check your work above to make sure you're on the right track. "
   ]
  },
  {
   "cell_type": "code",
   "execution_count": 35,
   "id": "3861bae6",
   "metadata": {
    "tags": []
   },
   "outputs": [
    {
     "data": {
      "text/plain": [
       "0.1316516216927174"
      ]
     },
     "execution_count": 35,
     "metadata": {},
     "output_type": "execute_result"
    }
   ],
   "source": [
    "q4d_check = (prob_q4(6, 5) * 0.9) + (prob_q4(6, 1) * 0.1)\n",
    "\n",
    "q4d_check"
   ]
  },
  {
   "cell_type": "code",
   "execution_count": 36,
   "id": "188104e6",
   "metadata": {
    "deletable": false,
    "editable": false
   },
   "outputs": [
    {
     "data": {
      "text/html": [
       "<p><strong><pre style='display: inline;'>q4d_check</pre></strong> passed! 🍀</p>"
      ],
      "text/plain": [
       "q4d_check results: All test cases passed!"
      ]
     },
     "execution_count": 36,
     "metadata": {},
     "output_type": "execute_result"
    }
   ],
   "source": [
    "grader.check(\"q4d_check\")"
   ]
  },
  {
   "cell_type": "markdown",
   "id": "16806c5c",
   "metadata": {
    "deletable": false,
    "editable": false
   },
   "source": [
    "<!-- BEGIN QUESTION -->\n",
    "\n",
    "### Question 4e) ###\n",
    "S'pose John is working a 5-hour shift from 4-9 PM after school. He gets no breaks, because the year is 1870 and worker's rights is not yet a thing.  \n",
    "\n",
    "Plot a histogram of the probability mass function (pmf) of the number of customers he serves in his 5 hour shift.   \n",
    "For the **domain of the histogram, include $x$ values between $80$ and $160$ in your plot.**\n",
    "\n",
    "Be sure to include labels for your x and y axes and a title for your plot.\n",
    "\n",
    "**Hint:** Python has a built-in function to calculate the Poisson distribution for different values of $\\lambda$.  See the documentation for `poisson.pmf` in `scipy.stats`  (https://docs.scipy.org/doc/scipy/reference/generated/scipy.stats.poisson.html)\n",
    "\n",
    "**Hint:**  Since we are changing the time interval over which we are counting customers, you will need to update the parameter $\\lambda$ in the Poisson distribution to be the average number of customers John can serve in a $5$-hour shift. **You can assume that his rate of 4 customers per 10 minutes scales up consistently during his 5 hour shift.**  \n",
    "\n"
   ]
  },
  {
   "cell_type": "code",
   "execution_count": 37,
   "id": "e471e80c-b4e1-42ed-b39a-3a50e55ff397",
   "metadata": {
    "deletable": false,
    "editable": false
   },
   "outputs": [],
   "source": [
    "from scipy.stats import poisson"
   ]
  },
  {
   "cell_type": "code",
   "execution_count": 38,
   "id": "4c31fba9",
   "metadata": {
    "tags": []
   },
   "outputs": [
    {
     "data": {
      "image/png": "[encoded data removed]",
      "text/plain": [
       "<Figure size 1000x600 with 1 Axes>"
      ]
     },
     "metadata": {},
     "output_type": "display_data"
    }
   ],
   "source": [
    "\n",
    "service_5hr = 120  \n",
    "\n",
    "\n",
    "x_values = np.arange(80, 161)  # x between 80 and 160\n",
    "\n",
    "# Calculate the Poisson PMF for each x value\n",
    "pmf_values = poisson.pmf(x_values, service_5hr)\n",
    "\n",
    "# Plotting\n",
    "plt.figure(figsize=(10, 6))\n",
    "plt.bar(x_values, pmf_values, width=1, edgecolor='black', color='skyblue')\n",
    "\n",
    "# Adding labels and title\n",
    "plt.title(\"Poisson Distribution of Customers Served by John in 5-Hour Shift\")\n",
    "plt.xlabel(\"Number of Customers Served\")\n",
    "plt.ylabel(\"Probability Mass Function (PMF)\")\n",
    "plt.grid(True, axis='y', linestyle='--', alpha=0.7)\n",
    "\n",
    "# Show the plot\n",
    "plt.show()\n",
    "\n",
    "# your code above this line"
   ]
  },
  {
   "cell_type": "markdown",
   "id": "34406772",
   "metadata": {
    "deletable": false,
    "editable": false
   },
   "source": [
    "<!-- END QUESTION -->\n",
    "\n",
    "### Question 4f) ###\n",
    "\n",
    "Calculate  the probability that John serves 100 or more customers during his **5-hour** shift.  Note for this problem do the calculation of the actual probability, not a simulation.   Assign your output to the variable `prob_100_or_more`.\n",
    "Assume we can safely scale our data assumptions up to a 5-hour interval.\n",
    "\n"
   ]
  },
  {
   "cell_type": "code",
   "execution_count": 39,
   "id": "80613691",
   "metadata": {
    "tags": []
   },
   "outputs": [
    {
     "data": {
      "text/plain": [
       "0.9721362601094794"
      ]
     },
     "execution_count": 39,
     "metadata": {},
     "output_type": "execute_result"
    }
   ],
   "source": [
    "prob_100_or_more = 1 - poisson.cdf(99, service_5hr)\n",
    "# your code above this line\n",
    "prob_100_or_more"
   ]
  },
  {
   "cell_type": "code",
   "execution_count": 40,
   "id": "48356093",
   "metadata": {
    "deletable": false,
    "editable": false
   },
   "outputs": [
    {
     "data": {
      "text/html": [
       "<p><strong><pre style='display: inline;'>q4f</pre></strong> passed! 🌈</p>"
      ],
      "text/plain": [
       "q4f results: All test cases passed!"
      ]
     },
     "execution_count": 40,
     "metadata": {},
     "output_type": "execute_result"
    }
   ],
   "source": [
    "grader.check(\"q4f\")"
   ]
  },
  {
   "cell_type": "markdown",
   "id": "fddc9d6b",
   "metadata": {
    "deletable": false,
    "editable": false
   },
   "source": [
    "<!-- BEGIN QUESTION -->\n",
    "\n",
    "### Question 4g) \n",
    "\n",
    "Time to simulate!\n",
    "\n",
    "In Questions 4e and 4f above it was possible to calculate the probabilities exactly.  However, in some situations it may be too challenging to calculate an exact theoretical probability in which case we can use numerical simulation to estimate the probability.\n",
    "\n",
    "In this part we're going to re-do Questions 4e and 4f via simulation to demonstrate that we're able to get very close to the theoretical probabilities via simulation.  \n",
    "\n",
    "That is, we're going to simulate the distribution of the number of customers John serves in his 5 hour shift.\n",
    "\n",
    "i).  Use the `np.random.poisson` function to randomly sample 100,000 times (with replacement) from a Poisson distribution with the same parameter $\\lambda$ you used in Question 4e.   Save these simulated values in a `numpy array` called `random_sample`\n",
    "\n",
    "\n",
    "ii). Then plot a **density histogram** of your simulated values.  Your histogram should look very similar to the theoretical histogram you plotted in Question 4e.  \n",
    "Set the bin parameter to be `bins = np.arange(80,160)`.\n",
    "Be sure to include a title and labels for the units of your x and y axes.\n",
    "\n",
    "\n",
    "iii).  Then use your simulated values to calculate the (simulated) probability that John serves 100 or more customers in a 5-hour block. Your answer should be very close to the theoretical answer you calculated in part 4f.\n"
   ]
  },
  {
   "cell_type": "code",
   "execution_count": 41,
   "id": "eb5613d3",
   "metadata": {
    "tags": []
   },
   "outputs": [
    {
     "data": {
      "text/plain": [
       "array([131, 108, 141, 131, 129, 117, 126, 107, 128, 118])"
      ]
     },
     "execution_count": 41,
     "metadata": {},
     "output_type": "execute_result"
    }
   ],
   "source": [
    "random_sample = np.random.poisson(service_5hr, 100000)\n",
    "\n",
    "#Peek at the first 10 values\n",
    "random_sample[:10]"
   ]
  },
  {
   "cell_type": "code",
   "execution_count": 42,
   "id": "bb63113f",
   "metadata": {
    "tags": []
   },
   "outputs": [
    {
     "data": {
      "image/png": "[encoded data removed]",
      "text/plain": [
       "<Figure size 640x480 with 1 Axes>"
      ]
     },
     "metadata": {},
     "output_type": "display_data"
    }
   ],
   "source": [
    "plt.hist(random_sample, bins=np.arange(80, 161), density=True, edgecolor='white', alpha=0.7)\n",
    "plt.title('Simulated Distribution of Customers Served in 5 Hours')\n",
    "plt.xlabel('Number of Customers Served')\n",
    "plt.ylabel('Density')\n",
    "plt.show()\n",
    "# Your code for part 4g(ii) above this line"
   ]
  },
  {
   "cell_type": "code",
   "execution_count": 43,
   "id": "fe69ba59",
   "metadata": {
    "tags": []
   },
   "outputs": [
    {
     "name": "stdout",
     "output_type": "stream",
     "text": [
      "Simulated Probability that John serves 100 or more customers in a 5-hour block = 0.972\n"
     ]
    }
   ],
   "source": [
    "p100_john = np.mean(random_sample >= 100)\n",
    "\n",
    "# Your code for part iii above this line\n",
    "\n",
    "print('Simulated Probability that John serves 100 or more customers in a 5-hour block = {:.3f}'.format(p100_john))\n",
    "\n",
    "\n",
    "# Output should match your theoretical answer to Part 4f"
   ]
  },
  {
   "cell_type": "markdown",
   "id": "169d7663",
   "metadata": {
    "deletable": false,
    "editable": false
   },
   "source": [
    "<!-- END QUESTION -->\n",
    "\n",
    "<br/><br/>\n",
    "<hr style=\"border: 5px solid #003262;\" />\n",
    "<hr style=\"border: 1px solid #fdb515;\" />\n",
    "\n",
    "## Congratulations! You have finished Homework 5!"
   ]
  },
  {
   "cell_type": "markdown",
   "id": "cc31acf9",
   "metadata": {},
   "source": [
    "If you discussed this assignment with any other students in the class (in a manner that is acceptable as described by the Collaboration policy above) please **include their names** here:\n",
    "\n",
    "**Collaborators**: *list collaborators here*"
   ]
  },
  {
   "cell_type": "markdown",
   "id": "46739932",
   "metadata": {},
   "source": [
    "### Submission Instructions\n",
    "\n",
    "Before proceeding any further, **save this notebook.**\n",
    "\n",
    "After running the `grader.export()` cell provided below, **2 files will be created**: a zip file and pdf file.  You can download them using the links provided below OR by finding them in the same folder where this juptyer notebook resides in your JuptyerHub.\n",
    "\n",
    "To receive credit on this assignment, **you must submit BOTH of these files\n",
    "to their respective Gradescope portals:** \n",
    "\n",
    "* **Homework 5 Autograded**: Submit the zip file that is output by the `grader.export()` cell below to the HW5 Autograded assignment in Gradescope.\n",
    "\n",
    "* **Homework 5 Manually Graded**: Submit your hw05.PDF to the HW5 Manually Graded assignment in Gradescope.  **YOU MUST SELECT THE PAGES CORRESPONDING TO EACH QUESTION WHEN YOU UPLOAD TO GRADESCOPE.  IF NOT, YOU WILL LOSE POINTS**   Also, **check** that all of your plots **and** all lines of your code are showing up in your PDF before submitting.  If not, you will not receive credit for your plots/code.  \n",
    "\n",
    "\n",
    "**You are responsible for ensuring your submission follows our requirements. We will not be granting regrade requests nor extensions to submissions that don't follow instructions.** If you encounter any difficulties with submission, please don't hesitate to reach out to staff prior to the deadline."
   ]
  },
  {
   "cell_type": "markdown",
   "id": "428b263c",
   "metadata": {
    "deletable": false,
    "editable": false,
    "tags": []
   },
   "source": [
    "## Submission\n",
    "\n",
    "Make sure you have run all cells in your notebook in order before running the cell below, so that all images/graphs appear in the output. The cell below will generate a zip file for you to submit. **Please save before exporting!**\n",
    "\n",
    "AFTER running the cell below, click on <a href='hw05.pdf' download>this link to download the PDF </a> to upload to Gradescope.  There will be a separate link that appears after running the cell below with a link to download the zip file to upload to Gradescope."
   ]
  },
  {
   "cell_type": "code",
   "execution_count": 44,
   "id": "717d4def",
   "metadata": {
    "deletable": false,
    "editable": false
   },
   "outputs": [
    {
     "name": "stderr",
     "output_type": "stream",
     "text": [
      "/opt/conda/lib/python3.10/site-packages/otter/check/notebook.py:470: UserWarning: Could not locate a PDF to include\n",
      "  warnings.warn(\"Could not locate a PDF to include\")\n"
     ]
    },
    {
     "ename": "ExportFailedException",
     "evalue": "There was an error generating your LaTeX; showing full error message:\n    Failed to run \"['xelatex', 'notebook.tex', '-quiet']\" command:\n    This is XeTeX, Version 3.141592653-2.6-0.999993 (TeX Live 2022/dev/Debian) (preloaded format=xelatex)\n     restricted \\write18 enabled.\n    entering extended mode\n    (./notebook.tex\n    LaTeX2e <2021-11-15> patch level 1\n    L3 programming layer <2022-01-21>\n    (/usr/share/texlive/texmf-dist/tex/latex/base/article.cls\n    Document Class: article 2021/10/04 v1.4n Standard LaTeX document class\n    (/usr/share/texlive/texmf-dist/tex/latex/base/size10.clo))\n    (/usr/share/texlive/texmf-dist/tex/latex/graphics/graphicx.sty\n    (/usr/share/texlive/texmf-dist/tex/latex/graphics/keyval.sty)\n    (/usr/share/texlive/texmf-dist/tex/latex/graphics/graphics.sty\n    (/usr/share/texlive/texmf-dist/tex/latex/graphics/trig.sty)\n    (/usr/share/texlive/texmf-dist/tex/latex/graphics-cfg/graphics.cfg)\n    (/usr/share/texlive/texmf-dist/tex/latex/graphics-def/xetex.def)))\n    (/usr/share/texlive/texmf-dist/tex/latex/caption/caption.sty\n    (/usr/share/texlive/texmf-dist/tex/latex/caption/caption3.sty))\n    (/usr/share/texlive/texmf-dist/tex/latex/float/float.sty)\n    (/usr/share/texlive/texmf-dist/tex/latex/xcolor/xcolor.sty\n    (/usr/share/texlive/texmf-dist/tex/latex/graphics-cfg/color.cfg))\n    (/usr/share/texlive/texmf-dist/tex/latex/tools/enumerate.sty)\n    (/usr/share/texlive/texmf-dist/tex/latex/geometry/geometry.sty\n    (/usr/share/texlive/texmf-dist/tex/generic/iftex/ifvtex.sty\n    (/usr/share/texlive/texmf-dist/tex/generic/iftex/iftex.sty)))\n    (/usr/share/texlive/texmf-dist/tex/latex/amsmath/amsmath.sty\n    For additional information on amsmath, use the `?' option.\n    (/usr/share/texlive/texmf-dist/tex/latex/amsmath/amstext.sty\n    (/usr/share/texlive/texmf-dist/tex/latex/amsmath/amsgen.sty))\n    (/usr/share/texlive/texmf-dist/tex/latex/amsmath/amsbsy.sty)\n    (/usr/share/texlive/texmf-dist/tex/latex/amsmath/amsopn.sty))\n    (/usr/share/texlive/texmf-dist/tex/latex/amsfonts/amssymb.sty\n    (/usr/share/texlive/texmf-dist/tex/latex/amsfonts/amsfonts.sty))\n    (/usr/share/texlive/texmf-dist/tex/latex/base/textcomp.sty)\n    (/usr/share/texlive/texmf-dist/tex/latex/upquote/upquote.sty)\n    (/usr/share/texlive/texmf-dist/tex/latex/eurosym/eurosym.sty)\n    (/usr/share/texlive/texmf-dist/tex/latex/fontspec/fontspec.sty\n    (/usr/share/texlive/texmf-dist/tex/latex/l3packages/xparse/xparse.sty\n    (/usr/share/texlive/texmf-dist/tex/latex/l3kernel/expl3.sty\n    (/usr/share/texlive/texmf-dist/tex/latex/l3backend/l3backend-xetex.def\n    (|extractbb --version))))\n    (/usr/share/texlive/texmf-dist/tex/latex/fontspec/fontspec-xetex.sty\n    (/usr/share/texlive/texmf-dist/tex/latex/base/fontenc.sty)\n    (/usr/share/texlive/texmf-dist/tex/latex/fontspec/fontspec.cfg)))\n    (/usr/share/texlive/texmf-dist/tex/latex/unicode-math/unicode-math.sty\n    (/usr/share/texlive/texmf-dist/tex/latex/unicode-math/unicode-math-xetex.sty\n    (/usr/share/texlive/texmf-dist/tex/latex/l3packages/l3keys2e/l3keys2e.sty)\n    (/usr/share/texlive/texmf-dist/tex/latex/base/fix-cm.sty\n    (/usr/share/texlive/texmf-dist/tex/latex/base/ts1enc.def))\n    (/usr/share/texlive/texmf-dist/tex/latex/unicode-math/unicode-math-table.tex)))\n    (/usr/share/texlive/texmf-dist/tex/latex/fancyvrb/fancyvrb.sty)\n    (/usr/share/texlive/texmf-dist/tex/latex/grffile/grffile.sty)\n    (/usr/share/texlive/texmf-dist/tex/latex/adjustbox/adjustbox.sty\n    (/usr/share/texlive/texmf-dist/tex/latex/xkeyval/xkeyval.sty\n    (/usr/share/texlive/texmf-dist/tex/generic/xkeyval/xkeyval.tex\n    (/usr/share/texlive/texmf-dist/tex/generic/xkeyval/xkvutils.tex)))\n    (/usr/share/texlive/texmf-dist/tex/latex/adjustbox/adjcalc.sty)\n    (/usr/share/texlive/texmf-dist/tex/latex/adjustbox/trimclip.sty\n    (/usr/share/texlive/texmf-dist/tex/latex/collectbox/collectbox.sty)\n    (/usr/share/texlive/texmf-dist/tex/latex/adjustbox/tc-xetex.def))\n    (/usr/share/texlive/texmf-dist/tex/latex/ifoddpage/ifoddpage.sty)\n    (/usr/share/texlive/texmf-dist/tex/latex/varwidth/varwidth.sty))\n    (/usr/share/texlive/texmf-dist/tex/latex/hyperref/hyperref.sty\n    (/usr/share/texlive/texmf-dist/tex/generic/ltxcmds/ltxcmds.sty)\n    (/usr/share/texlive/texmf-dist/tex/generic/pdftexcmds/pdftexcmds.sty\n    (/usr/share/texlive/texmf-dist/tex/generic/infwarerr/infwarerr.sty))\n    (/usr/share/texlive/texmf-dist/tex/generic/kvsetkeys/kvsetkeys.sty)\n    (/usr/share/texlive/texmf-dist/tex/generic/kvdefinekeys/kvdefinekeys.sty)\n    (/usr/share/texlive/texmf-dist/tex/generic/pdfescape/pdfescape.sty)\n    (/usr/share/texlive/texmf-dist/tex/latex/hycolor/hycolor.sty)\n    (/usr/share/texlive/texmf-dist/tex/latex/letltxmacro/letltxmacro.sty)\n    (/usr/share/texlive/texmf-dist/tex/latex/auxhook/auxhook.sty)\n    (/usr/share/texlive/texmf-dist/tex/latex/kvoptions/kvoptions.sty)\n    (/usr/share/texlive/texmf-dist/tex/latex/hyperref/pd1enc.def)\n    (/usr/share/texlive/texmf-dist/tex/latex/hyperref/hyperref-langpatches.def)\n    (/usr/share/texlive/texmf-dist/tex/generic/intcalc/intcalc.sty)\n    (/usr/share/texlive/texmf-dist/tex/generic/etexcmds/etexcmds.sty)\n    (/usr/share/texlive/texmf-dist/tex/latex/hyperref/puenc.def)\n    (/usr/share/texlive/texmf-dist/tex/latex/url/url.sty)\n    (/usr/share/texlive/texmf-dist/tex/generic/bitset/bitset.sty\n    (/usr/share/texlive/texmf-dist/tex/generic/bigintcalc/bigintcalc.sty))\n    (/usr/share/texlive/texmf-dist/tex/latex/base/atbegshi-ltx.sty))\n    (/usr/share/texlive/texmf-dist/tex/latex/hyperref/hxetex.def\n    (/usr/share/texlive/texmf-dist/tex/generic/stringenc/stringenc.sty)\n    (/usr/share/texlive/texmf-dist/tex/latex/rerunfilecheck/rerunfilecheck.sty\n    (/usr/share/texlive/texmf-dist/tex/latex/base/atveryend-ltx.sty)\n    (/usr/share/texlive/texmf-dist/tex/generic/uniquecounter/uniquecounter.sty)))\n    (/usr/share/texlive/texmf-dist/tex/latex/titling/titling.sty)\n    (/usr/share/texlive/texmf-dist/tex/latex/tools/longtable.sty)\n    (/usr/share/texlive/texmf-dist/tex/latex/booktabs/booktabs.sty)\n    (/usr/share/texlive/texmf-dist/tex/latex/tools/array.sty)\n    (/usr/share/texlive/texmf-dist/tex/latex/tools/calc.sty)\n    (/usr/share/texlive/texmf-dist/tex/latex/enumitem/enumitem.sty)\n    (/usr/share/texlive/texmf-dist/tex/generic/ulem/ulem.sty)\n    (/usr/share/texlive/texmf-dist/tex/latex/jknapltx/mathrsfs.sty)\n    No file notebook.aux.\n    (/usr/share/texlive/texmf-dist/tex/latex/caption/ltcaption.sty)\n    *geometry* driver: auto-detecting\n    *geometry* detected driver: xetex\n\n    Package geometry Warning: The marginal notes overrun the paper.\n         Add 3.73001pt and more to the right margin.\n\n    *geometry* verbose mode - [ preamble ] result:\n    * driver: xetex\n    * paper: <default>\n    * layout: <same size as paper>\n    * layoutoffset:(h,v)=(0.0pt,0.0pt)\n    * modes: \n    * h-part:(L,W,R)=(72.26999pt, 469.75502pt, 72.26999pt)\n    * v-part:(T,H,B)=(72.26999pt, 650.43001pt, 72.26999pt)\n    * \\paperwidth=614.295pt\n    * \\paperheight=794.96999pt\n    * \\textwidth=469.75502pt\n    * \\textheight=650.43001pt\n    * \\oddsidemargin=0.0pt\n    * \\evensidemargin=0.0pt\n    * \\topmargin=-37.0pt\n    * \\headheight=12.0pt\n    * \\headsep=25.0pt\n    * \\topskip=10.0pt\n    * \\footskip=30.0pt\n    * \\marginparwidth=65.0pt\n    * \\marginparsep=11.0pt\n    * \\columnsep=10.0pt\n    * \\skip\\footins=9.0pt plus 4.0pt minus 2.0pt\n    * \\hoffset=0.0pt\n    * \\voffset=0.0pt\n    * \\mag=1000\n    * \\@twocolumnfalse\n    * \\@twosidefalse\n    * \\@mparswitchfalse\n    * \\@reversemarginfalse\n    * (1in=72.27pt=25.4mm, 1cm=28.453pt)\n\n    (/usr/share/texlive/texmf-dist/tex/latex/hyperref/nameref.sty\n    (/usr/share/texlive/texmf-dist/tex/latex/refcount/refcount.sty)\n    (/usr/share/texlive/texmf-dist/tex/generic/gettitlestring/gettitlestring.sty))\n\n    Package hyperref Warning: Rerun to get /PageLabels entry.\n\n    (/usr/share/texlive/texmf-dist/tex/latex/amsfonts/umsa.fd)\n    (/usr/share/texlive/texmf-dist/tex/latex/amsfonts/umsb.fd)\n    (/usr/share/texlive/texmf-dist/tex/latex/jknapltx/ursfs.fd)\n\n    Package longtable Warning: Column widths have changed\n    (longtable)                in table 1 on input line 357.\n\n    Missing character: There is no ∑ (U+2211) in font [lmroman10-regular]:mapping=t\n    ex-text;!\n    [1] [2] [3] [4] [5] [6]\n\n    ! LaTeX Error: \\symbballowed only in math mode.\n\n    See the LaTeX manual or LaTeX Companion for explanation.\n    Type  H <return>  for immediate help.\n     ...                                              \n                                                  \n    l.583 numbers. The expected winnings ( \\mathbb\n                                                  {E}{[}Y{]} ) for a single spin\n    ? \n    ! Emergency stop.\n     ...                                              \n                                                  \n    l.583 numbers. The expected winnings ( \\mathbb\n                                                  {E}{[}Y{]} ) for a single spin\n    Output written on notebook.pdf (6 pages).\n    Transcript written on notebook.log.\n",
     "output_type": "error",
     "traceback": [
      "\u001b[0;31m---------------------------------------------------------------------------\u001b[0m",
      "\u001b[0;31mLatexFailed\u001b[0m                               Traceback (most recent call last)",
      "File \u001b[0;32m/opt/conda/lib/python3.10/site-packages/otter/export/exporters/via_latex.py:66\u001b[0m, in \u001b[0;36mPDFViaLatexExporter.convert_notebook\u001b[0;34m(cls, nb_path, dest, xecjk, **kwargs)\u001b[0m\n\u001b[1;32m     64\u001b[0m         output_file\u001b[38;5;241m.\u001b[39mwrite(latex_output[\u001b[38;5;241m0\u001b[39m])\n\u001b[0;32m---> 66\u001b[0m pdf_output \u001b[38;5;241m=\u001b[39m \u001b[43mnbconvert\u001b[49m\u001b[38;5;241;43m.\u001b[39;49m\u001b[43mexport\u001b[49m\u001b[43m(\u001b[49m\u001b[43mpdf_exporter\u001b[49m\u001b[43m,\u001b[49m\u001b[43m \u001b[49m\u001b[43mnb\u001b[49m\u001b[43m)\u001b[49m\n\u001b[1;32m     67\u001b[0m \u001b[38;5;28;01mwith\u001b[39;00m \u001b[38;5;28mopen\u001b[39m(dest, \u001b[38;5;124m\"\u001b[39m\u001b[38;5;124mwb\u001b[39m\u001b[38;5;124m\"\u001b[39m) \u001b[38;5;28;01mas\u001b[39;00m output_file:\n",
      "File \u001b[0;32m/opt/conda/lib/python3.10/site-packages/nbconvert/exporters/base.py:86\u001b[0m, in \u001b[0;36mexport\u001b[0;34m(exporter, nb, **kw)\u001b[0m\n\u001b[1;32m     85\u001b[0m \u001b[38;5;28;01mif\u001b[39;00m \u001b[38;5;28misinstance\u001b[39m(nb, NotebookNode):\n\u001b[0;32m---> 86\u001b[0m     output, resources \u001b[38;5;241m=\u001b[39m \u001b[43mexporter_instance\u001b[49m\u001b[38;5;241;43m.\u001b[39;49m\u001b[43mfrom_notebook_node\u001b[49m\u001b[43m(\u001b[49m\u001b[43mnb\u001b[49m\u001b[43m,\u001b[49m\u001b[43m \u001b[49m\u001b[43mresources\u001b[49m\u001b[43m)\u001b[49m\n\u001b[1;32m     87\u001b[0m \u001b[38;5;28;01melif\u001b[39;00m \u001b[38;5;28misinstance\u001b[39m(nb, (\u001b[38;5;28mstr\u001b[39m,)):\n",
      "File \u001b[0;32m/opt/conda/lib/python3.10/site-packages/nbconvert/exporters/pdf.py:194\u001b[0m, in \u001b[0;36mPDFExporter.from_notebook_node\u001b[0;34m(self, nb, resources, **kw)\u001b[0m\n\u001b[1;32m    193\u001b[0m \u001b[38;5;28mself\u001b[39m\u001b[38;5;241m.\u001b[39mlog\u001b[38;5;241m.\u001b[39minfo(\u001b[38;5;124m\"\u001b[39m\u001b[38;5;124mBuilding PDF\u001b[39m\u001b[38;5;124m\"\u001b[39m)\n\u001b[0;32m--> 194\u001b[0m \u001b[38;5;28;43mself\u001b[39;49m\u001b[38;5;241;43m.\u001b[39;49m\u001b[43mrun_latex\u001b[49m\u001b[43m(\u001b[49m\u001b[43mtex_file\u001b[49m\u001b[43m)\u001b[49m\n\u001b[1;32m    195\u001b[0m \u001b[38;5;28;01mif\u001b[39;00m \u001b[38;5;28mself\u001b[39m\u001b[38;5;241m.\u001b[39mrun_bib(tex_file):\n",
      "File \u001b[0;32m/opt/conda/lib/python3.10/site-packages/nbconvert/exporters/pdf.py:164\u001b[0m, in \u001b[0;36mPDFExporter.run_latex\u001b[0;34m(self, filename, raise_on_failure)\u001b[0m\n\u001b[1;32m    162\u001b[0m     \u001b[38;5;28mself\u001b[39m\u001b[38;5;241m.\u001b[39mlog\u001b[38;5;241m.\u001b[39mcritical(\u001b[38;5;124m\"\u001b[39m\u001b[38;5;132;01m%s\u001b[39;00m\u001b[38;5;124m failed: \u001b[39m\u001b[38;5;132;01m%s\u001b[39;00m\u001b[38;5;130;01m\\n\u001b[39;00m\u001b[38;5;132;01m%s\u001b[39;00m\u001b[38;5;124m\"\u001b[39m, command[\u001b[38;5;241m0\u001b[39m], command, out)\n\u001b[0;32m--> 164\u001b[0m \u001b[38;5;28;01mreturn\u001b[39;00m \u001b[38;5;28;43mself\u001b[39;49m\u001b[38;5;241;43m.\u001b[39;49m\u001b[43mrun_command\u001b[49m\u001b[43m(\u001b[49m\n\u001b[1;32m    165\u001b[0m \u001b[43m    \u001b[49m\u001b[38;5;28;43mself\u001b[39;49m\u001b[38;5;241;43m.\u001b[39;49m\u001b[43mlatex_command\u001b[49m\u001b[43m,\u001b[49m\u001b[43m \u001b[49m\u001b[43mfilename\u001b[49m\u001b[43m,\u001b[49m\u001b[43m \u001b[49m\u001b[38;5;28;43mself\u001b[39;49m\u001b[38;5;241;43m.\u001b[39;49m\u001b[43mlatex_count\u001b[49m\u001b[43m,\u001b[49m\u001b[43m \u001b[49m\u001b[43mlog_error\u001b[49m\u001b[43m,\u001b[49m\u001b[43m \u001b[49m\u001b[43mraise_on_failure\u001b[49m\n\u001b[1;32m    166\u001b[0m \u001b[43m\u001b[49m\u001b[43m)\u001b[49m\n",
      "File \u001b[0;32m/opt/conda/lib/python3.10/site-packages/nbconvert/exporters/pdf.py:150\u001b[0m, in \u001b[0;36mPDFExporter.run_command\u001b[0;34m(self, command_list, filename, count, log_function, raise_on_failure)\u001b[0m\n\u001b[1;32m    149\u001b[0m \u001b[38;5;28;01mif\u001b[39;00m raise_on_failure:\n\u001b[0;32m--> 150\u001b[0m     \u001b[38;5;28;01mraise\u001b[39;00m raise_on_failure(\n\u001b[1;32m    151\u001b[0m         \u001b[38;5;124m'\u001b[39m\u001b[38;5;124mFailed to run \u001b[39m\u001b[38;5;124m\"\u001b[39m\u001b[38;5;132;01m{command}\u001b[39;00m\u001b[38;5;124m\"\u001b[39m\u001b[38;5;124m command:\u001b[39m\u001b[38;5;130;01m\\n\u001b[39;00m\u001b[38;5;132;01m{output}\u001b[39;00m\u001b[38;5;124m'\u001b[39m\u001b[38;5;241m.\u001b[39mformat(\n\u001b[1;32m    152\u001b[0m             command\u001b[38;5;241m=\u001b[39mcommand, output\u001b[38;5;241m=\u001b[39mout\n\u001b[1;32m    153\u001b[0m         )\n\u001b[1;32m    154\u001b[0m     )\n\u001b[1;32m    155\u001b[0m \u001b[38;5;28;01mreturn\u001b[39;00m \u001b[38;5;28;01mFalse\u001b[39;00m  \u001b[38;5;66;03m# failure\u001b[39;00m\n",
      "\u001b[0;31mLatexFailed\u001b[0m: PDF creating failed, captured latex output:\nFailed to run \"['xelatex', 'notebook.tex', '-quiet']\" command:\nThis is XeTeX, Version 3.141592653-2.6-0.999993 (TeX Live 2022/dev/Debian) (preloaded format=xelatex)\n restricted \\write18 enabled.\nentering extended mode\n(./notebook.tex\nLaTeX2e <2021-11-15> patch level 1\nL3 programming layer <2022-01-21>\n(/usr/share/texlive/texmf-dist/tex/latex/base/article.cls\nDocument Class: article 2021/10/04 v1.4n Standard LaTeX document class\n(/usr/share/texlive/texmf-dist/tex/latex/base/size10.clo))\n(/usr/share/texlive/texmf-dist/tex/latex/graphics/graphicx.sty\n(/usr/share/texlive/texmf-dist/tex/latex/graphics/keyval.sty)\n(/usr/share/texlive/texmf-dist/tex/latex/graphics/graphics.sty\n(/usr/share/texlive/texmf-dist/tex/latex/graphics/trig.sty)\n(/usr/share/texlive/texmf-dist/tex/latex/graphics-cfg/graphics.cfg)\n(/usr/share/texlive/texmf-dist/tex/latex/graphics-def/xetex.def)))\n(/usr/share/texlive/texmf-dist/tex/latex/caption/caption.sty\n(/usr/share/texlive/texmf-dist/tex/latex/caption/caption3.sty))\n(/usr/share/texlive/texmf-dist/tex/latex/float/float.sty)\n(/usr/share/texlive/texmf-dist/tex/latex/xcolor/xcolor.sty\n(/usr/share/texlive/texmf-dist/tex/latex/graphics-cfg/color.cfg))\n(/usr/share/texlive/texmf-dist/tex/latex/tools/enumerate.sty)\n(/usr/share/texlive/texmf-dist/tex/latex/geometry/geometry.sty\n(/usr/share/texlive/texmf-dist/tex/generic/iftex/ifvtex.sty\n(/usr/share/texlive/texmf-dist/tex/generic/iftex/iftex.sty)))\n(/usr/share/texlive/texmf-dist/tex/latex/amsmath/amsmath.sty\nFor additional information on amsmath, use the `?' option.\n(/usr/share/texlive/texmf-dist/tex/latex/amsmath/amstext.sty\n(/usr/share/texlive/texmf-dist/tex/latex/amsmath/amsgen.sty))\n(/usr/share/texlive/texmf-dist/tex/latex/amsmath/amsbsy.sty)\n(/usr/share/texlive/texmf-dist/tex/latex/amsmath/amsopn.sty))\n(/usr/share/texlive/texmf-dist/tex/latex/amsfonts/amssymb.sty\n(/usr/share/texlive/texmf-dist/tex/latex/amsfonts/amsfonts.sty))\n(/usr/share/texlive/texmf-dist/tex/latex/base/textcomp.sty)\n(/usr/share/texlive/texmf-dist/tex/latex/upquote/upquote.sty)\n(/usr/share/texlive/texmf-dist/tex/latex/eurosym/eurosym.sty)\n(/usr/share/texlive/texmf-dist/tex/latex/fontspec/fontspec.sty\n(/usr/share/texlive/texmf-dist/tex/latex/l3packages/xparse/xparse.sty\n(/usr/share/texlive/texmf-dist/tex/latex/l3kernel/expl3.sty\n(/usr/share/texlive/texmf-dist/tex/latex/l3backend/l3backend-xetex.def\n(|extractbb --version))))\n(/usr/share/texlive/texmf-dist/tex/latex/fontspec/fontspec-xetex.sty\n(/usr/share/texlive/texmf-dist/tex/latex/base/fontenc.sty)\n(/usr/share/texlive/texmf-dist/tex/latex/fontspec/fontspec.cfg)))\n(/usr/share/texlive/texmf-dist/tex/latex/unicode-math/unicode-math.sty\n(/usr/share/texlive/texmf-dist/tex/latex/unicode-math/unicode-math-xetex.sty\n(/usr/share/texlive/texmf-dist/tex/latex/l3packages/l3keys2e/l3keys2e.sty)\n(/usr/share/texlive/texmf-dist/tex/latex/base/fix-cm.sty\n(/usr/share/texlive/texmf-dist/tex/latex/base/ts1enc.def))\n(/usr/share/texlive/texmf-dist/tex/latex/unicode-math/unicode-math-table.tex)))\n(/usr/share/texlive/texmf-dist/tex/latex/fancyvrb/fancyvrb.sty)\n(/usr/share/texlive/texmf-dist/tex/latex/grffile/grffile.sty)\n(/usr/share/texlive/texmf-dist/tex/latex/adjustbox/adjustbox.sty\n(/usr/share/texlive/texmf-dist/tex/latex/xkeyval/xkeyval.sty\n(/usr/share/texlive/texmf-dist/tex/generic/xkeyval/xkeyval.tex\n(/usr/share/texlive/texmf-dist/tex/generic/xkeyval/xkvutils.tex)))\n(/usr/share/texlive/texmf-dist/tex/latex/adjustbox/adjcalc.sty)\n(/usr/share/texlive/texmf-dist/tex/latex/adjustbox/trimclip.sty\n(/usr/share/texlive/texmf-dist/tex/latex/collectbox/collectbox.sty)\n(/usr/share/texlive/texmf-dist/tex/latex/adjustbox/tc-xetex.def))\n(/usr/share/texlive/texmf-dist/tex/latex/ifoddpage/ifoddpage.sty)\n(/usr/share/texlive/texmf-dist/tex/latex/varwidth/varwidth.sty))\n(/usr/share/texlive/texmf-dist/tex/latex/hyperref/hyperref.sty\n(/usr/share/texlive/texmf-dist/tex/generic/ltxcmds/ltxcmds.sty)\n(/usr/share/texlive/texmf-dist/tex/generic/pdftexcmds/pdftexcmds.sty\n(/usr/share/texlive/texmf-dist/tex/generic/infwarerr/infwarerr.sty))\n(/usr/share/texlive/texmf-dist/tex/generic/kvsetkeys/kvsetkeys.sty)\n(/usr/share/texlive/texmf-dist/tex/generic/kvdefinekeys/kvdefinekeys.sty)\n(/usr/share/texlive/texmf-dist/tex/generic/pdfescape/pdfescape.sty)\n(/usr/share/texlive/texmf-dist/tex/latex/hycolor/hycolor.sty)\n(/usr/share/texlive/texmf-dist/tex/latex/letltxmacro/letltxmacro.sty)\n(/usr/share/texlive/texmf-dist/tex/latex/auxhook/auxhook.sty)\n(/usr/share/texlive/texmf-dist/tex/latex/kvoptions/kvoptions.sty)\n(/usr/share/texlive/texmf-dist/tex/latex/hyperref/pd1enc.def)\n(/usr/share/texlive/texmf-dist/tex/latex/hyperref/hyperref-langpatches.def)\n(/usr/share/texlive/texmf-dist/tex/generic/intcalc/intcalc.sty)\n(/usr/share/texlive/texmf-dist/tex/generic/etexcmds/etexcmds.sty)\n(/usr/share/texlive/texmf-dist/tex/latex/hyperref/puenc.def)\n(/usr/share/texlive/texmf-dist/tex/latex/url/url.sty)\n(/usr/share/texlive/texmf-dist/tex/generic/bitset/bitset.sty\n(/usr/share/texlive/texmf-dist/tex/generic/bigintcalc/bigintcalc.sty))\n(/usr/share/texlive/texmf-dist/tex/latex/base/atbegshi-ltx.sty))\n(/usr/share/texlive/texmf-dist/tex/latex/hyperref/hxetex.def\n(/usr/share/texlive/texmf-dist/tex/generic/stringenc/stringenc.sty)\n(/usr/share/texlive/texmf-dist/tex/latex/rerunfilecheck/rerunfilecheck.sty\n(/usr/share/texlive/texmf-dist/tex/latex/base/atveryend-ltx.sty)\n(/usr/share/texlive/texmf-dist/tex/generic/uniquecounter/uniquecounter.sty)))\n(/usr/share/texlive/texmf-dist/tex/latex/titling/titling.sty)\n(/usr/share/texlive/texmf-dist/tex/latex/tools/longtable.sty)\n(/usr/share/texlive/texmf-dist/tex/latex/booktabs/booktabs.sty)\n(/usr/share/texlive/texmf-dist/tex/latex/tools/array.sty)\n(/usr/share/texlive/texmf-dist/tex/latex/tools/calc.sty)\n(/usr/share/texlive/texmf-dist/tex/latex/enumitem/enumitem.sty)\n(/usr/share/texlive/texmf-dist/tex/generic/ulem/ulem.sty)\n(/usr/share/texlive/texmf-dist/tex/latex/jknapltx/mathrsfs.sty)\nNo file notebook.aux.\n(/usr/share/texlive/texmf-dist/tex/latex/caption/ltcaption.sty)\n*geometry* driver: auto-detecting\n*geometry* detected driver: xetex\n\nPackage geometry Warning: The marginal notes overrun the paper.\n     Add 3.73001pt and more to the right margin.\n\n*geometry* verbose mode - [ preamble ] result:\n* driver: xetex\n* paper: <default>\n* layout: <same size as paper>\n* layoutoffset:(h,v)=(0.0pt,0.0pt)\n* modes: \n* h-part:(L,W,R)=(72.26999pt, 469.75502pt, 72.26999pt)\n* v-part:(T,H,B)=(72.26999pt, 650.43001pt, 72.26999pt)\n* \\paperwidth=614.295pt\n* \\paperheight=794.96999pt\n* \\textwidth=469.75502pt\n* \\textheight=650.43001pt\n* \\oddsidemargin=0.0pt\n* \\evensidemargin=0.0pt\n* \\topmargin=-37.0pt\n* \\headheight=12.0pt\n* \\headsep=25.0pt\n* \\topskip=10.0pt\n* \\footskip=30.0pt\n* \\marginparwidth=65.0pt\n* \\marginparsep=11.0pt\n* \\columnsep=10.0pt\n* \\skip\\footins=9.0pt plus 4.0pt minus 2.0pt\n* \\hoffset=0.0pt\n* \\voffset=0.0pt\n* \\mag=1000\n* \\@twocolumnfalse\n* \\@twosidefalse\n* \\@mparswitchfalse\n* \\@reversemarginfalse\n* (1in=72.27pt=25.4mm, 1cm=28.453pt)\n\n(/usr/share/texlive/texmf-dist/tex/latex/hyperref/nameref.sty\n(/usr/share/texlive/texmf-dist/tex/latex/refcount/refcount.sty)\n(/usr/share/texlive/texmf-dist/tex/generic/gettitlestring/gettitlestring.sty))\n\nPackage hyperref Warning: Rerun to get /PageLabels entry.\n\n(/usr/share/texlive/texmf-dist/tex/latex/amsfonts/umsa.fd)\n(/usr/share/texlive/texmf-dist/tex/latex/amsfonts/umsb.fd)\n(/usr/share/texlive/texmf-dist/tex/latex/jknapltx/ursfs.fd)\n\nPackage longtable Warning: Column widths have changed\n(longtable)                in table 1 on input line 357.\n\nMissing character: There is no ∑ (U+2211) in font [lmroman10-regular]:mapping=t\nex-text;!\n[1] [2] [3] [4] [5] [6]\n\n! LaTeX Error: \\symbballowed only in math mode.\n\nSee the LaTeX manual or LaTeX Companion for explanation.\nType  H <return>  for immediate help.\n ...                                              \n                                                  \nl.583 numbers. The expected winnings ( \\mathbb\n                                              {E}{[}Y{]} ) for a single spin\n? \n! Emergency stop.\n ...                                              \n                                                  \nl.583 numbers. The expected winnings ( \\mathbb\n                                              {E}{[}Y{]} ) for a single spin\nOutput written on notebook.pdf (6 pages).\nTranscript written on notebook.log.\n",
      "\nDuring handling of the above exception, another exception occurred:\n",
      "\u001b[0;31mExportFailedException\u001b[0m                     Traceback (most recent call last)",
      "Cell \u001b[0;32mIn[44], line 2\u001b[0m\n\u001b[1;32m      1\u001b[0m \u001b[38;5;66;03m# Save your notebook first, then run this cell to export your submission.\u001b[39;00m\n\u001b[0;32m----> 2\u001b[0m \u001b[43mgrader\u001b[49m\u001b[38;5;241;43m.\u001b[39;49m\u001b[43mexport\u001b[49m\u001b[43m(\u001b[49m\u001b[43mrun_tests\u001b[49m\u001b[38;5;241;43m=\u001b[39;49m\u001b[38;5;28;43;01mTrue\u001b[39;49;00m\u001b[43m)\u001b[49m\n",
      "File \u001b[0;32m/opt/conda/lib/python3.10/site-packages/otter/check/utils.py:184\u001b[0m, in \u001b[0;36mgrading_mode_disabled\u001b[0;34m(wrapped, self, args, kwargs)\u001b[0m\n\u001b[1;32m    182\u001b[0m \u001b[38;5;28;01mif\u001b[39;00m \u001b[38;5;28mtype\u001b[39m(\u001b[38;5;28mself\u001b[39m)\u001b[38;5;241m.\u001b[39m_grading_mode:\n\u001b[1;32m    183\u001b[0m     \u001b[38;5;28;01mreturn\u001b[39;00m\n\u001b[0;32m--> 184\u001b[0m \u001b[38;5;28;01mreturn\u001b[39;00m \u001b[43mwrapped\u001b[49m\u001b[43m(\u001b[49m\u001b[38;5;241;43m*\u001b[39;49m\u001b[43margs\u001b[49m\u001b[43m,\u001b[49m\u001b[43m \u001b[49m\u001b[38;5;241;43m*\u001b[39;49m\u001b[38;5;241;43m*\u001b[39;49m\u001b[43mkwargs\u001b[49m\u001b[43m)\u001b[49m\n",
      "File \u001b[0;32m/opt/conda/lib/python3.10/site-packages/otter/check/utils.py:166\u001b[0m, in \u001b[0;36mincompatible_with.<locals>.incompatible\u001b[0;34m(wrapped, self, args, kwargs)\u001b[0m\n\u001b[1;32m    164\u001b[0m     \u001b[38;5;28;01melse\u001b[39;00m:\n\u001b[1;32m    165\u001b[0m         \u001b[38;5;28;01mreturn\u001b[39;00m\n\u001b[0;32m--> 166\u001b[0m \u001b[38;5;28;01mreturn\u001b[39;00m \u001b[43mwrapped\u001b[49m\u001b[43m(\u001b[49m\u001b[38;5;241;43m*\u001b[39;49m\u001b[43margs\u001b[49m\u001b[43m,\u001b[49m\u001b[43m \u001b[49m\u001b[38;5;241;43m*\u001b[39;49m\u001b[38;5;241;43m*\u001b[39;49m\u001b[43mkwargs\u001b[49m\u001b[43m)\u001b[49m\n",
      "File \u001b[0;32m/opt/conda/lib/python3.10/site-packages/otter/check/utils.py:217\u001b[0m, in \u001b[0;36mlogs_event.<locals>.event_logger\u001b[0;34m(wrapped, self, args, kwargs)\u001b[0m\n\u001b[1;32m    215\u001b[0m \u001b[38;5;28;01mexcept\u001b[39;00m \u001b[38;5;167;01mException\u001b[39;00m \u001b[38;5;28;01mas\u001b[39;00m e:\n\u001b[1;32m    216\u001b[0m     \u001b[38;5;28mself\u001b[39m\u001b[38;5;241m.\u001b[39m_log_event(event_type, success\u001b[38;5;241m=\u001b[39m\u001b[38;5;28;01mFalse\u001b[39;00m, error\u001b[38;5;241m=\u001b[39me)\n\u001b[0;32m--> 217\u001b[0m     \u001b[38;5;28;01mraise\u001b[39;00m e\n\u001b[1;32m    219\u001b[0m \u001b[38;5;28;01mif\u001b[39;00m ret \u001b[38;5;129;01mis\u001b[39;00m \u001b[38;5;28;01mNone\u001b[39;00m:\n\u001b[1;32m    220\u001b[0m     ret \u001b[38;5;241m=\u001b[39m LoggedEventReturnValue(\u001b[38;5;28;01mNone\u001b[39;00m)\n",
      "File \u001b[0;32m/opt/conda/lib/python3.10/site-packages/otter/check/utils.py:213\u001b[0m, in \u001b[0;36mlogs_event.<locals>.event_logger\u001b[0;34m(wrapped, self, args, kwargs)\u001b[0m\n\u001b[1;32m    208\u001b[0m \u001b[38;5;250m\u001b[39m\u001b[38;5;124;03m\"\"\"\u001b[39;00m\n\u001b[1;32m    209\u001b[0m \u001b[38;5;124;03mRuns a method, catching any errors and logging the call. Returns the unwrapped return value\u001b[39;00m\n\u001b[1;32m    210\u001b[0m \u001b[38;5;124;03mof the wrapped function.\u001b[39;00m\n\u001b[1;32m    211\u001b[0m \u001b[38;5;124;03m\"\"\"\u001b[39;00m\n\u001b[1;32m    212\u001b[0m \u001b[38;5;28;01mtry\u001b[39;00m:\n\u001b[0;32m--> 213\u001b[0m     ret: Optional[LoggedEventReturnValue[T]] \u001b[38;5;241m=\u001b[39m \u001b[43mwrapped\u001b[49m\u001b[43m(\u001b[49m\u001b[38;5;241;43m*\u001b[39;49m\u001b[43margs\u001b[49m\u001b[43m,\u001b[49m\u001b[43m \u001b[49m\u001b[38;5;241;43m*\u001b[39;49m\u001b[38;5;241;43m*\u001b[39;49m\u001b[43mkwargs\u001b[49m\u001b[43m)\u001b[49m\n\u001b[1;32m    215\u001b[0m \u001b[38;5;28;01mexcept\u001b[39;00m \u001b[38;5;167;01mException\u001b[39;00m \u001b[38;5;28;01mas\u001b[39;00m e:\n\u001b[1;32m    216\u001b[0m     \u001b[38;5;28mself\u001b[39m\u001b[38;5;241m.\u001b[39m_log_event(event_type, success\u001b[38;5;241m=\u001b[39m\u001b[38;5;28;01mFalse\u001b[39;00m, error\u001b[38;5;241m=\u001b[39me)\n",
      "File \u001b[0;32m/opt/conda/lib/python3.10/site-packages/otter/check/notebook.py:525\u001b[0m, in \u001b[0;36mNotebook.export\u001b[0;34m(self, nb_path, export_path, pdf, filtering, pagebreaks, files, display_link, force_save, run_tests)\u001b[0m\n\u001b[1;32m    523\u001b[0m \u001b[38;5;28;01mif\u001b[39;00m pdf_created \u001b[38;5;129;01mor\u001b[39;00m \u001b[38;5;129;01mnot\u001b[39;00m \u001b[38;5;28mself\u001b[39m\u001b[38;5;241m.\u001b[39m_nbmeta_config\u001b[38;5;241m.\u001b[39mrequire_no_pdf_confirmation:\n\u001b[1;32m    524\u001b[0m     \u001b[38;5;28;01mif\u001b[39;00m pdf_error \u001b[38;5;129;01mis\u001b[39;00m \u001b[38;5;129;01mnot\u001b[39;00m \u001b[38;5;28;01mNone\u001b[39;00m:\n\u001b[0;32m--> 525\u001b[0m         \u001b[38;5;28;01mraise\u001b[39;00m pdf_error\n\u001b[1;32m    526\u001b[0m     continue_export()\n\u001b[1;32m    527\u001b[0m \u001b[38;5;28;01melse\u001b[39;00m:\n",
      "File \u001b[0;32m/opt/conda/lib/python3.10/site-packages/otter/check/notebook.py:462\u001b[0m, in \u001b[0;36mNotebook.export\u001b[0;34m(self, nb_path, export_path, pdf, filtering, pagebreaks, files, display_link, force_save, run_tests)\u001b[0m\n\u001b[1;32m    460\u001b[0m pdf_path, pdf_created, pdf_error \u001b[38;5;241m=\u001b[39m \u001b[38;5;28;01mNone\u001b[39;00m, \u001b[38;5;28;01mTrue\u001b[39;00m, \u001b[38;5;28;01mNone\u001b[39;00m\n\u001b[1;32m    461\u001b[0m \u001b[38;5;28;01mif\u001b[39;00m pdf:\n\u001b[0;32m--> 462\u001b[0m     \u001b[38;5;28;01mtry\u001b[39;00m: pdf_path \u001b[38;5;241m=\u001b[39m \u001b[43mexport_notebook\u001b[49m\u001b[43m(\u001b[49m\u001b[43mnb_path\u001b[49m\u001b[43m,\u001b[49m\u001b[43m \u001b[49m\u001b[43mfiltering\u001b[49m\u001b[38;5;241;43m=\u001b[39;49m\u001b[43mfiltering\u001b[49m\u001b[43m,\u001b[49m\u001b[43m \u001b[49m\u001b[43mpagebreaks\u001b[49m\u001b[38;5;241;43m=\u001b[39;49m\u001b[43mpagebreaks\u001b[49m\u001b[43m)\u001b[49m\n\u001b[1;32m    463\u001b[0m     \u001b[38;5;28;01mexcept\u001b[39;00m \u001b[38;5;167;01mException\u001b[39;00m \u001b[38;5;28;01mas\u001b[39;00m e: pdf_error \u001b[38;5;241m=\u001b[39m e\n\u001b[1;32m    464\u001b[0m     \u001b[38;5;28;01mif\u001b[39;00m pdf_path \u001b[38;5;129;01mand\u001b[39;00m os\u001b[38;5;241m.\u001b[39mpath\u001b[38;5;241m.\u001b[39misfile(pdf_path):\n",
      "File \u001b[0;32m/opt/conda/lib/python3.10/site-packages/otter/export/__init__.py:36\u001b[0m, in \u001b[0;36mexport_notebook\u001b[0;34m(nb_path, dest, exporter_type, **kwargs)\u001b[0m\n\u001b[1;32m     33\u001b[0m     pdf_name \u001b[38;5;241m=\u001b[39m os\u001b[38;5;241m.\u001b[39mpath\u001b[38;5;241m.\u001b[39msplitext(nb_path)[\u001b[38;5;241m0\u001b[39m] \u001b[38;5;241m+\u001b[39m \u001b[38;5;124m\"\u001b[39m\u001b[38;5;124m.pdf\u001b[39m\u001b[38;5;124m\"\u001b[39m\n\u001b[1;32m     35\u001b[0m Exporter \u001b[38;5;241m=\u001b[39m get_exporter(exporter_type\u001b[38;5;241m=\u001b[39mexporter_type)\n\u001b[0;32m---> 36\u001b[0m \u001b[43mExporter\u001b[49m\u001b[38;5;241;43m.\u001b[39;49m\u001b[43mconvert_notebook\u001b[49m\u001b[43m(\u001b[49m\u001b[43mnb_path\u001b[49m\u001b[43m,\u001b[49m\u001b[43m \u001b[49m\u001b[43mpdf_name\u001b[49m\u001b[43m,\u001b[49m\u001b[43m \u001b[49m\u001b[38;5;241;43m*\u001b[39;49m\u001b[38;5;241;43m*\u001b[39;49m\u001b[43mkwargs\u001b[49m\u001b[43m)\u001b[49m\n\u001b[1;32m     38\u001b[0m \u001b[38;5;28;01mreturn\u001b[39;00m pdf_name\n",
      "File \u001b[0;32m/opt/conda/lib/python3.10/site-packages/otter/export/exporters/via_latex.py:77\u001b[0m, in \u001b[0;36mPDFViaLatexExporter.convert_notebook\u001b[0;34m(cls, nb_path, dest, xecjk, **kwargs)\u001b[0m\n\u001b[1;32m     73\u001b[0m     \u001b[38;5;28;01mif\u001b[39;00m xecjk:\n\u001b[1;32m     74\u001b[0m         message \u001b[38;5;241m+\u001b[39m\u001b[38;5;241m=\u001b[39m \u001b[38;5;124m\"\u001b[39m\u001b[38;5;130;01m\\n\u001b[39;00m\u001b[38;5;130;01m\\n\u001b[39;00m\u001b[38;5;124mIf the error above is related to xeCJK or fandol in LaTeX \u001b[39m\u001b[38;5;124m\"\u001b[39m \\\n\u001b[1;32m     75\u001b[0m             \u001b[38;5;124m\"\u001b[39m\u001b[38;5;124mand you don\u001b[39m\u001b[38;5;124m'\u001b[39m\u001b[38;5;124mt require this functionality, try running again without \u001b[39m\u001b[38;5;124m\"\u001b[39m \\\n\u001b[1;32m     76\u001b[0m             \u001b[38;5;124m\"\u001b[39m\u001b[38;5;124mxecjk set to True or the --xecjk flag.\u001b[39m\u001b[38;5;124m\"\u001b[39m\n\u001b[0;32m---> 77\u001b[0m     \u001b[38;5;28;01mraise\u001b[39;00m ExportFailedException(message)\n\u001b[1;32m     79\u001b[0m \u001b[38;5;28;01mfinally\u001b[39;00m:\n\u001b[1;32m     80\u001b[0m     \u001b[38;5;28;01mif\u001b[39;00m NBCONVERT_6:\n",
      "\u001b[0;31mExportFailedException\u001b[0m: There was an error generating your LaTeX; showing full error message:\n    Failed to run \"['xelatex', 'notebook.tex', '-quiet']\" command:\n    This is XeTeX, Version 3.141592653-2.6-0.999993 (TeX Live 2022/dev/Debian) (preloaded format=xelatex)\n     restricted \\write18 enabled.\n    entering extended mode\n    (./notebook.tex\n    LaTeX2e <2021-11-15> patch level 1\n    L3 programming layer <2022-01-21>\n    (/usr/share/texlive/texmf-dist/tex/latex/base/article.cls\n    Document Class: article 2021/10/04 v1.4n Standard LaTeX document class\n    (/usr/share/texlive/texmf-dist/tex/latex/base/size10.clo))\n    (/usr/share/texlive/texmf-dist/tex/latex/graphics/graphicx.sty\n    (/usr/share/texlive/texmf-dist/tex/latex/graphics/keyval.sty)\n    (/usr/share/texlive/texmf-dist/tex/latex/graphics/graphics.sty\n    (/usr/share/texlive/texmf-dist/tex/latex/graphics/trig.sty)\n    (/usr/share/texlive/texmf-dist/tex/latex/graphics-cfg/graphics.cfg)\n    (/usr/share/texlive/texmf-dist/tex/latex/graphics-def/xetex.def)))\n    (/usr/share/texlive/texmf-dist/tex/latex/caption/caption.sty\n    (/usr/share/texlive/texmf-dist/tex/latex/caption/caption3.sty))\n    (/usr/share/texlive/texmf-dist/tex/latex/float/float.sty)\n    (/usr/share/texlive/texmf-dist/tex/latex/xcolor/xcolor.sty\n    (/usr/share/texlive/texmf-dist/tex/latex/graphics-cfg/color.cfg))\n    (/usr/share/texlive/texmf-dist/tex/latex/tools/enumerate.sty)\n    (/usr/share/texlive/texmf-dist/tex/latex/geometry/geometry.sty\n    (/usr/share/texlive/texmf-dist/tex/generic/iftex/ifvtex.sty\n    (/usr/share/texlive/texmf-dist/tex/generic/iftex/iftex.sty)))\n    (/usr/share/texlive/texmf-dist/tex/latex/amsmath/amsmath.sty\n    For additional information on amsmath, use the `?' option.\n    (/usr/share/texlive/texmf-dist/tex/latex/amsmath/amstext.sty\n    (/usr/share/texlive/texmf-dist/tex/latex/amsmath/amsgen.sty))\n    (/usr/share/texlive/texmf-dist/tex/latex/amsmath/amsbsy.sty)\n    (/usr/share/texlive/texmf-dist/tex/latex/amsmath/amsopn.sty))\n    (/usr/share/texlive/texmf-dist/tex/latex/amsfonts/amssymb.sty\n    (/usr/share/texlive/texmf-dist/tex/latex/amsfonts/amsfonts.sty))\n    (/usr/share/texlive/texmf-dist/tex/latex/base/textcomp.sty)\n    (/usr/share/texlive/texmf-dist/tex/latex/upquote/upquote.sty)\n    (/usr/share/texlive/texmf-dist/tex/latex/eurosym/eurosym.sty)\n    (/usr/share/texlive/texmf-dist/tex/latex/fontspec/fontspec.sty\n    (/usr/share/texlive/texmf-dist/tex/latex/l3packages/xparse/xparse.sty\n    (/usr/share/texlive/texmf-dist/tex/latex/l3kernel/expl3.sty\n    (/usr/share/texlive/texmf-dist/tex/latex/l3backend/l3backend-xetex.def\n    (|extractbb --version))))\n    (/usr/share/texlive/texmf-dist/tex/latex/fontspec/fontspec-xetex.sty\n    (/usr/share/texlive/texmf-dist/tex/latex/base/fontenc.sty)\n    (/usr/share/texlive/texmf-dist/tex/latex/fontspec/fontspec.cfg)))\n    (/usr/share/texlive/texmf-dist/tex/latex/unicode-math/unicode-math.sty\n    (/usr/share/texlive/texmf-dist/tex/latex/unicode-math/unicode-math-xetex.sty\n    (/usr/share/texlive/texmf-dist/tex/latex/l3packages/l3keys2e/l3keys2e.sty)\n    (/usr/share/texlive/texmf-dist/tex/latex/base/fix-cm.sty\n    (/usr/share/texlive/texmf-dist/tex/latex/base/ts1enc.def))\n    (/usr/share/texlive/texmf-dist/tex/latex/unicode-math/unicode-math-table.tex)))\n    (/usr/share/texlive/texmf-dist/tex/latex/fancyvrb/fancyvrb.sty)\n    (/usr/share/texlive/texmf-dist/tex/latex/grffile/grffile.sty)\n    (/usr/share/texlive/texmf-dist/tex/latex/adjustbox/adjustbox.sty\n    (/usr/share/texlive/texmf-dist/tex/latex/xkeyval/xkeyval.sty\n    (/usr/share/texlive/texmf-dist/tex/generic/xkeyval/xkeyval.tex\n    (/usr/share/texlive/texmf-dist/tex/generic/xkeyval/xkvutils.tex)))\n    (/usr/share/texlive/texmf-dist/tex/latex/adjustbox/adjcalc.sty)\n    (/usr/share/texlive/texmf-dist/tex/latex/adjustbox/trimclip.sty\n    (/usr/share/texlive/texmf-dist/tex/latex/collectbox/collectbox.sty)\n    (/usr/share/texlive/texmf-dist/tex/latex/adjustbox/tc-xetex.def))\n    (/usr/share/texlive/texmf-dist/tex/latex/ifoddpage/ifoddpage.sty)\n    (/usr/share/texlive/texmf-dist/tex/latex/varwidth/varwidth.sty))\n    (/usr/share/texlive/texmf-dist/tex/latex/hyperref/hyperref.sty\n    (/usr/share/texlive/texmf-dist/tex/generic/ltxcmds/ltxcmds.sty)\n    (/usr/share/texlive/texmf-dist/tex/generic/pdftexcmds/pdftexcmds.sty\n    (/usr/share/texlive/texmf-dist/tex/generic/infwarerr/infwarerr.sty))\n    (/usr/share/texlive/texmf-dist/tex/generic/kvsetkeys/kvsetkeys.sty)\n    (/usr/share/texlive/texmf-dist/tex/generic/kvdefinekeys/kvdefinekeys.sty)\n    (/usr/share/texlive/texmf-dist/tex/generic/pdfescape/pdfescape.sty)\n    (/usr/share/texlive/texmf-dist/tex/latex/hycolor/hycolor.sty)\n    (/usr/share/texlive/texmf-dist/tex/latex/letltxmacro/letltxmacro.sty)\n    (/usr/share/texlive/texmf-dist/tex/latex/auxhook/auxhook.sty)\n    (/usr/share/texlive/texmf-dist/tex/latex/kvoptions/kvoptions.sty)\n    (/usr/share/texlive/texmf-dist/tex/latex/hyperref/pd1enc.def)\n    (/usr/share/texlive/texmf-dist/tex/latex/hyperref/hyperref-langpatches.def)\n    (/usr/share/texlive/texmf-dist/tex/generic/intcalc/intcalc.sty)\n    (/usr/share/texlive/texmf-dist/tex/generic/etexcmds/etexcmds.sty)\n    (/usr/share/texlive/texmf-dist/tex/latex/hyperref/puenc.def)\n    (/usr/share/texlive/texmf-dist/tex/latex/url/url.sty)\n    (/usr/share/texlive/texmf-dist/tex/generic/bitset/bitset.sty\n    (/usr/share/texlive/texmf-dist/tex/generic/bigintcalc/bigintcalc.sty))\n    (/usr/share/texlive/texmf-dist/tex/latex/base/atbegshi-ltx.sty))\n    (/usr/share/texlive/texmf-dist/tex/latex/hyperref/hxetex.def\n    (/usr/share/texlive/texmf-dist/tex/generic/stringenc/stringenc.sty)\n    (/usr/share/texlive/texmf-dist/tex/latex/rerunfilecheck/rerunfilecheck.sty\n    (/usr/share/texlive/texmf-dist/tex/latex/base/atveryend-ltx.sty)\n    (/usr/share/texlive/texmf-dist/tex/generic/uniquecounter/uniquecounter.sty)))\n    (/usr/share/texlive/texmf-dist/tex/latex/titling/titling.sty)\n    (/usr/share/texlive/texmf-dist/tex/latex/tools/longtable.sty)\n    (/usr/share/texlive/texmf-dist/tex/latex/booktabs/booktabs.sty)\n    (/usr/share/texlive/texmf-dist/tex/latex/tools/array.sty)\n    (/usr/share/texlive/texmf-dist/tex/latex/tools/calc.sty)\n    (/usr/share/texlive/texmf-dist/tex/latex/enumitem/enumitem.sty)\n    (/usr/share/texlive/texmf-dist/tex/generic/ulem/ulem.sty)\n    (/usr/share/texlive/texmf-dist/tex/latex/jknapltx/mathrsfs.sty)\n    No file notebook.aux.\n    (/usr/share/texlive/texmf-dist/tex/latex/caption/ltcaption.sty)\n    *geometry* driver: auto-detecting\n    *geometry* detected driver: xetex\n\n    Package geometry Warning: The marginal notes overrun the paper.\n         Add 3.73001pt and more to the right margin.\n\n    *geometry* verbose mode - [ preamble ] result:\n    * driver: xetex\n    * paper: <default>\n    * layout: <same size as paper>\n    * layoutoffset:(h,v)=(0.0pt,0.0pt)\n    * modes: \n    * h-part:(L,W,R)=(72.26999pt, 469.75502pt, 72.26999pt)\n    * v-part:(T,H,B)=(72.26999pt, 650.43001pt, 72.26999pt)\n    * \\paperwidth=614.295pt\n    * \\paperheight=794.96999pt\n    * \\textwidth=469.75502pt\n    * \\textheight=650.43001pt\n    * \\oddsidemargin=0.0pt\n    * \\evensidemargin=0.0pt\n    * \\topmargin=-37.0pt\n    * \\headheight=12.0pt\n    * \\headsep=25.0pt\n    * \\topskip=10.0pt\n    * \\footskip=30.0pt\n    * \\marginparwidth=65.0pt\n    * \\marginparsep=11.0pt\n    * \\columnsep=10.0pt\n    * \\skip\\footins=9.0pt plus 4.0pt minus 2.0pt\n    * \\hoffset=0.0pt\n    * \\voffset=0.0pt\n    * \\mag=1000\n    * \\@twocolumnfalse\n    * \\@twosidefalse\n    * \\@mparswitchfalse\n    * \\@reversemarginfalse\n    * (1in=72.27pt=25.4mm, 1cm=28.453pt)\n\n    (/usr/share/texlive/texmf-dist/tex/latex/hyperref/nameref.sty\n    (/usr/share/texlive/texmf-dist/tex/latex/refcount/refcount.sty)\n    (/usr/share/texlive/texmf-dist/tex/generic/gettitlestring/gettitlestring.sty))\n\n    Package hyperref Warning: Rerun to get /PageLabels entry.\n\n    (/usr/share/texlive/texmf-dist/tex/latex/amsfonts/umsa.fd)\n    (/usr/share/texlive/texmf-dist/tex/latex/amsfonts/umsb.fd)\n    (/usr/share/texlive/texmf-dist/tex/latex/jknapltx/ursfs.fd)\n\n    Package longtable Warning: Column widths have changed\n    (longtable)                in table 1 on input line 357.\n\n    Missing character: There is no ∑ (U+2211) in font [lmroman10-regular]:mapping=t\n    ex-text;!\n    [1] [2] [3] [4] [5] [6]\n\n    ! LaTeX Error: \\symbballowed only in math mode.\n\n    See the LaTeX manual or LaTeX Companion for explanation.\n    Type  H <return>  for immediate help.\n     ...                                              \n                                                  \n    l.583 numbers. The expected winnings ( \\mathbb\n                                                  {E}{[}Y{]} ) for a single spin\n    ? \n    ! Emergency stop.\n     ...                                              \n                                                  \n    l.583 numbers. The expected winnings ( \\mathbb\n                                                  {E}{[}Y{]} ) for a single spin\n    Output written on notebook.pdf (6 pages).\n    Transcript written on notebook.log.\n"
     ]
    }
   ],
   "source": [
    "# Save your notebook first, then run this cell to export your submission.\n",
    "grader.export(run_tests=True)"
   ]
  },
  {
   "cell_type": "markdown",
   "id": "03bf033f",
   "metadata": {},
   "source": [
    " "
   ]
  },
  {
   "cell_type": "code",
   "execution_count": null,
   "id": "1103b21d-eeed-4947-9562-2dd841637bb9",
   "metadata": {},
   "outputs": [],
   "source": []
  }
 ],
 "metadata": {
  "kernelspec": {
   "display_name": "Python 3 (ipykernel)",
   "language": "python",
   "name": "python3"
  },
  "language_info": {
   "codemirror_mode": {
    "name": "ipython",
    "version": 3
   },
   "file_extension": ".py",
   "mimetype": "text/x-python",
   "name": "python",
   "nbconvert_exporter": "python",
   "pygments_lexer": "ipython3",
   "version": "3.10.8"
  },
  "otter": {
   "OK_FORMAT": true,
   "tests": {
    "q1a": {
     "name": "q1a",
     "points": 1,
     "suites": [
      {
       "cases": [
        {
         "code": ">>> # TEST\n>>> assert prob_1a >= 0 and prob_1a <= 1\n",
         "hidden": false,
         "locked": false
        },
        {
         "code": ">>> # TEST\n>>> assert np.isclose(prob_1a, 0.0369, atol = 1e-4)\n",
         "hidden": false,
         "locked": false
        }
       ],
       "scored": true,
       "setup": "",
       "teardown": "",
       "type": "doctest"
      }
     ]
    },
    "q1b": {
     "name": "q1b",
     "points": 1,
     "suites": [
      {
       "cases": [
        {
         "code": ">>> # TEST\n>>> assert np.all(all_probs >= 0) and np.all(all_probs <= 1)\n",
         "hidden": false,
         "locked": false
        },
        {
         "code": ">>> # TEST\n>>> k = np.arange(101)\n>>> test_1b = special.comb(100, k)*(0.26**k)*(0.74**(100-k))\n>>> assert np.all(np.isclose(test_1b, all_probs, atol = 1e-5))\n",
         "hidden": false,
         "locked": false
        }
       ],
       "scored": true,
       "setup": "",
       "teardown": "",
       "type": "doctest"
      }
     ]
    },
    "q1c": {
     "name": "q1c",
     "points": 1,
     "suites": [
      {
       "cases": [
        {
         "code": ">>> # TEST\n>>> assert prob_1c >= 0 and prob_1c <= 1\n",
         "hidden": false,
         "locked": false
        },
        {
         "code": ">>> # TEST\n>>> assert np.isclose(prob_1c, 0.9838, atol = 1e-4)\n",
         "hidden": false,
         "locked": false
        }
       ],
       "scored": true,
       "setup": "",
       "teardown": "",
       "type": "doctest"
      }
     ]
    },
    "q1d": {
     "name": "q1d",
     "points": 1,
     "suites": [
      {
       "cases": [
        {
         "code": ">>> # TEST\n>>> assert prob_at_most(3, 0.4, 1) >= 0\n",
         "hidden": false,
         "locked": false
        },
        {
         "code": ">>> # TEST\n>>> assert prob_at_most(5, 0.6, 3) <= 1\n",
         "hidden": false,
         "locked": false
        },
        {
         "code": ">>> # TEST\n>>> assert prob_at_most(2, 3, 4) == 0\n",
         "hidden": false,
         "locked": false
        },
        {
         "code": ">>> # TEST\n>>> assert np.isclose(prob_at_most(10, 0.7, 4), 0.0473, atol = 1e-4)\n",
         "hidden": false,
         "locked": false
        },
        {
         "code": ">>> # TEST\n>>> assert np.isclose(prob_at_most(10, 0.7, 4), 0.0473, atol = 1e-4)\n",
         "hidden": false,
         "locked": false
        },
        {
         "code": ">>> # TEST\n>>> assert np.isclose(prob_at_most(5, 1, 1), 0, atol = 1e-4)\n",
         "hidden": false,
         "locked": false
        },
        {
         "code": ">>> # TEST\n>>> assert np.isclose(prob_at_most(8, 0.7, 3), 0.05797, atol = 1e-4)\n",
         "hidden": false,
         "locked": false
        }
       ],
       "scored": true,
       "setup": "",
       "teardown": "",
       "type": "doctest"
      }
     ]
    },
    "q1e": {
     "name": "q1e",
     "points": 1,
     "suites": [
      {
       "cases": [
        {
         "code": ">>> # TEST\n>>> assert p_majority >= 0 and p_majority <= 1\n",
         "hidden": false,
         "locked": false
        },
        {
         "code": ">>> # TEST\n>>> assert np.isclose(p_majority, 0.06807, atol = 1e-4)\n",
         "hidden": false,
         "locked": false
        }
       ],
       "scored": true,
       "setup": "",
       "teardown": "",
       "type": "doctest"
      }
     ]
    },
    "q1f": {
     "name": "q1f",
     "points": 2,
     "suites": [
      {
       "cases": [
        {
         "code": ">>> # TEST\n>>> assert prob_1f >= 0 and prob_1f <= 1\n",
         "hidden": false,
         "locked": false
        },
        {
         "code": ">>> # TEST\n>>> assert np.isclose(prob_1f, 0.2355, atol = 1e-4)\n",
         "hidden": false,
         "locked": false
        }
       ],
       "scored": true,
       "setup": "",
       "teardown": "",
       "type": "doctest"
      }
     ]
    },
    "q2b": {
     "name": "q2b",
     "points": 2,
     "suites": [
      {
       "cases": [
        {
         "code": ">>> for spin in spin_roulette(10000):\n...     assert spin[-1] in (\"R\",\"B\",\"G\")\n...     assert (int(spin[:-1]) >= 0) and (int(spin[:-1]) <= 36)\n",
         "hidden": false,
         "locked": false
        },
        {
         "code": ">>> assert get_hash(round(color_winnings(color='R', num_spins=int(1e7)), 2)) == 'e927fe5f5ad45bcd256f7039b3783ffb'\n",
         "hidden": false,
         "locked": false
        }
       ],
       "scored": true,
       "setup": "",
       "teardown": "",
       "type": "doctest"
      }
     ]
    },
    "q2d": {
     "name": "q2d",
     "points": 3,
     "suites": [
      {
       "cases": [
        {
         "code": ">>> assert get_hash(round(dozen_winnings(int(1e7)), 2)) == 'e927fe5f5ad45bcd256f7039b3783ffb'\n",
         "hidden": false,
         "locked": false
        }
       ],
       "scored": true,
       "setup": "",
       "teardown": "",
       "type": "doctest"
      }
     ]
    },
    "q3_check": {
     "name": "q3_check",
     "points": 0,
     "suites": [
      {
       "cases": [
        {
         "code": ">>> # TEST\n>>> assert np.isclose(expected_value, 3.5)\n",
         "hidden": false,
         "locked": false
        },
        {
         "code": ">>> # TEST\n>>> assert np.isclose(standard_deviation, np.sqrt(9/20))\n",
         "hidden": false,
         "locked": false
        }
       ],
       "scored": true,
       "setup": "",
       "teardown": "",
       "type": "doctest"
      }
     ]
    },
    "q4a": {
     "name": "q4a",
     "points": 1,
     "suites": [
      {
       "cases": [
        {
         "code": ">>> # TEST\n>>> \n>>> assert np.isclose(q4a, 0.10419563, atol=1e-5)\n",
         "hidden": false,
         "locked": false
        }
       ],
       "scored": true,
       "setup": "",
       "teardown": "",
       "type": "doctest"
      }
     ]
    },
    "q4b": {
     "name": "q4b",
     "points": 1,
     "suites": [
      {
       "cases": [
        {
         "code": ">>> # TEST\n>>> assert np.isclose(q4b, 0.14622281, atol=1e-5)\n",
         "hidden": false,
         "locked": false
        }
       ],
       "scored": true,
       "setup": "",
       "teardown": "",
       "type": "doctest"
      }
     ]
    },
    "q4c": {
     "name": "q4c",
     "points": 1,
     "suites": [
      {
       "cases": [
        {
         "code": ">>> # TEST\n>>> assert np.isclose(q4c, 0.00051094, atol=1e-5)\n",
         "hidden": false,
         "locked": false
        }
       ],
       "scored": true,
       "setup": "",
       "teardown": "",
       "type": "doctest"
      }
     ]
    },
    "q4d_check": {
     "name": "q4d_check",
     "points": 0,
     "suites": [
      {
       "cases": [
        {
         "code": ">>> # TEST\n>>> assert np.isclose(q4d_check, 0.13165, atol=1e-5)\n",
         "hidden": false,
         "locked": false
        }
       ],
       "scored": true,
       "setup": "",
       "teardown": "",
       "type": "doctest"
      }
     ]
    },
    "q4f": {
     "name": "q4f",
     "points": 3,
     "suites": [
      {
       "cases": [
        {
         "code": ">>> # TEST\n>>> \n>>> assert np.isclose(prob_100_or_more, 0.972136, atol=1e-5)\n>>> \n",
         "hidden": false,
         "locked": false
        }
       ],
       "scored": true,
       "setup": "",
       "teardown": "",
       "type": "doctest"
      }
     ]
    }
   }
  }
 },
 "nbformat": 4,
 "nbformat_minor": 5
}
